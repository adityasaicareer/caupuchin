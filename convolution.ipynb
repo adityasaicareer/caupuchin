{
 "cells": [
  {
   "cell_type": "code",
   "execution_count": 1,
   "id": "4d6f1cbb",
   "metadata": {},
   "outputs": [],
   "source": [
    "import torch\n",
    "from torch import nn\n",
    "import torchvision\n",
    "from torchvision import transforms\n",
    "from torchvision.models import vgg16"
   ]
  },
  {
   "cell_type": "code",
   "execution_count": 2,
   "id": "9aca4d80",
   "metadata": {},
   "outputs": [],
   "source": [
    "import cv2\n",
    "from glob import glob\n",
    "from tqdm import tqdm\n"
   ]
  },
  {
   "cell_type": "code",
   "execution_count": 3,
   "id": "ee7d9cb2",
   "metadata": {},
   "outputs": [],
   "source": [
    "birdspath='./Parsed_Capuchinbird_Clips/*'\n",
    "nobirdspath='./Parsed_Not_Capuchinbird_Clips/*'"
   ]
  },
  {
   "cell_type": "code",
   "execution_count": 4,
   "id": "8b66e7ac",
   "metadata": {},
   "outputs": [],
   "source": [
    "import torchaudio"
   ]
  },
  {
   "cell_type": "code",
   "execution_count": 5,
   "id": "8e2acf71",
   "metadata": {},
   "outputs": [
    {
     "name": "stderr",
     "output_type": "stream",
     "text": [
      "/var/folders/qd/g3_k_1h16fnc16sst1_t_wc40000gn/T/ipykernel_31721/1822137616.py:1: UserWarning: torchaudio._backend.set_audio_backend has been deprecated. With dispatcher enabled, this function is no-op. You can remove the function call.\n",
      "  torchaudio.set_audio_backend(\"soundfile\")\n"
     ]
    }
   ],
   "source": [
    "torchaudio.set_audio_backend(\"soundfile\")"
   ]
  },
  {
   "cell_type": "code",
   "execution_count": 6,
   "id": "42b88086",
   "metadata": {},
   "outputs": [],
   "source": [
    "spectrogram_transform = torchaudio.transforms.Spectrogram(\n",
    "    n_fft=1024,       \n",
    "    win_length=None,  \n",
    "    hop_length=512,   \n",
    "    power=2.0       \n",
    ")"
   ]
  },
  {
   "cell_type": "code",
   "execution_count": 7,
   "id": "3e7dd822",
   "metadata": {},
   "outputs": [],
   "source": [
    "birds=0\n",
    "nobirds=0"
   ]
  },
  {
   "cell_type": "code",
   "execution_count": 8,
   "id": "f1b18b4b",
   "metadata": {},
   "outputs": [],
   "source": [
    "birdspaths=[]\n",
    "nobirdspaths=[]"
   ]
  },
  {
   "cell_type": "code",
   "execution_count": 9,
   "id": "f5b82c10",
   "metadata": {},
   "outputs": [],
   "source": [
    "import torchaudio\n",
    "import matplotlib.pyplot as plt\n",
    "def generateimages(waveform,isbird):\n",
    "    waveform = waveform.mean(dim=0, keepdim=True)\n",
    "    spec = torchaudio.transforms.Spectrogram()(waveform)\n",
    "\n",
    "    spec_db = torchaudio.transforms.AmplitudeToDB()(spec)\n",
    "\n",
    "    plt.imshow(spec_db.squeeze().numpy(), origin='lower', aspect='auto')\n",
    "    plt.axis('off')  # optional: remove axes for cleaner image\n",
    "    if(isbird==1):\n",
    "        plt.savefig(f\"./birdimages/bird{birds+1}.png\")\n",
    "        birdspaths.append((f\"./birdimages/bird{birds+1}.png\",1))\n",
    "    else:\n",
    "        plt.savefig(f\"./nobirdimages/nobird{nobirds+1}.png\")  \n",
    "        nobirdspaths.append((f\"./nobirdimages/bird{nobirds+1}.png\",0))\n",
    "    plt.savefig(\"spectrogram_simple.png\", dpi=300)"
   ]
  },
  {
   "cell_type": "code",
   "execution_count": 10,
   "id": "a9c40d99",
   "metadata": {},
   "outputs": [],
   "source": [
    "import random\n",
    "num=0\n",
    "for i in range(208):\n",
    "    nobirdspaths.append((f\"./nobirdimages/nobird{num+1}.png\",0))\n",
    "    num+=1\n"
   ]
  },
  {
   "cell_type": "code",
   "execution_count": 11,
   "id": "62b1a26f",
   "metadata": {},
   "outputs": [],
   "source": [
    "num1=0\n",
    "for j in range(216):\n",
    "    birdspaths.append((f\"./birdimages/bird{num1+1}.png\",1))\n",
    "    num1+=1\n"
   ]
  },
  {
   "cell_type": "code",
   "execution_count": null,
   "id": "2864247e",
   "metadata": {},
   "outputs": [],
   "source": []
  },
  {
   "cell_type": "code",
   "execution_count": 12,
   "id": "577046de",
   "metadata": {},
   "outputs": [],
   "source": [
    "allpaths=glob(birdspath)+glob(nobirdspath)\n",
    "random.shuffle(allpaths)"
   ]
  },
  {
   "cell_type": "code",
   "execution_count": 13,
   "id": "5d2a31d3",
   "metadata": {},
   "outputs": [],
   "source": [
    "# for i in tqdm(glob(birdspath)[152:]):\n",
    "#     waveform,_=torchaudio.load(i)\n",
    "#     generateimages(waveform,1)\n",
    "#     birds+=1\n",
    "\n",
    "# for j in tqdm(glob(nobirdspath)):\n",
    "#     waveform,_=torchaudio.load(j)\n",
    "#     generateimages(waveform,0),\n",
    "#     nobirds+=1\n",
    "    "
   ]
  },
  {
   "cell_type": "code",
   "execution_count": 14,
   "id": "3d265ff9",
   "metadata": {},
   "outputs": [],
   "source": [
    "from torch.utils.data import Dataset,DataLoader\n",
    "import cv2\n",
    "device='cuda' if torch.cuda.is_available() else 'cpu'"
   ]
  },
  {
   "cell_type": "code",
   "execution_count": 15,
   "id": "bf7652d5",
   "metadata": {},
   "outputs": [],
   "source": [
    "tfms=transforms.Compose([\n",
    "    transforms.ToTensor(),\n",
    "    transforms.Resize((224,224)),\n",
    "    transforms.Normalize([0.485, 0.456, 0.406], [0.229, 0.224, 0.225])\n",
    "])"
   ]
  },
  {
   "cell_type": "code",
   "execution_count": 16,
   "id": "48b26ed6",
   "metadata": {},
   "outputs": [],
   "source": [
    "from PIL import Image"
   ]
  },
  {
   "cell_type": "code",
   "execution_count": 17,
   "id": "7cf6db97",
   "metadata": {},
   "outputs": [],
   "source": [
    "class getdataset(Dataset):\n",
    "    def __init__(self, birdspaths, nobirdspaths, transforms=None):\n",
    "        self.allpaths = birdspaths + nobirdspaths\n",
    "        random.shuffle(self.allpaths)\n",
    "        self.transforms = transforms\n",
    "    \n",
    "    def __len__(self):\n",
    "        return len(self.allpaths)\n",
    "\n",
    "    def __getitem__(self, ix):\n",
    "        path = self.allpaths[ix]\n",
    "        \n",
    "        # Read and convert to RGB using cv2\n",
    "        image = cv2.imread(path[0])\n",
    "        \n",
    "        if image is None:\n",
    "            raise ValueError(f\"Failed to load image: {path[0]}\")\n",
    "        \n",
    "        image = cv2.cvtColor(image, cv2.COLOR_BGR2RGB)\n",
    "        \n",
    "        # Resize using cv2 (since transforms.Resize needs a tensor first)\n",
    "        image = cv2.resize(image, (224, 224))\n",
    "        \n",
    "        # Convert numpy array to tensor\n",
    "        image = torch.from_numpy(image).permute(2, 0, 1).float() / 255.0\n",
    "        \n",
    "        # Apply normalization from tfms\n",
    "        if self.transforms:\n",
    "            # Extract only the Normalize transform\n",
    "            normalize = transforms.Normalize([0.485, 0.456, 0.406], [0.229, 0.224, 0.225])\n",
    "            image = normalize(image)\n",
    "        \n",
    "        # DON'T move to device here!\n",
    "        label = torch.tensor(path[1], dtype=torch.float32)\n",
    "        \n",
    "        return image, label"
   ]
  },
  {
   "cell_type": "code",
   "execution_count": 18,
   "id": "fb47e5ef",
   "metadata": {},
   "outputs": [],
   "source": [
    "import math"
   ]
  },
  {
   "cell_type": "code",
   "execution_count": 19,
   "id": "dc0e96a7",
   "metadata": {},
   "outputs": [],
   "source": [
    "traindataset=getdataset(birdspaths[:math.floor(len(birdspaths)*0.8)],nobirdspaths[:math.floor(len(nobirdspaths)*0.8)])\n",
    "valdataset=getdataset(birdspaths[math.floor(len(birdspaths)*0.8):],nobirdspaths[math.floor(len(nobirdspaths)*0.8):])\n",
    "\n",
    "trainloader=DataLoader(traindataset,batch_size=4,shuffle=True)\n",
    "valloader=DataLoader(valdataset,batch_size=4,shuffle=True)"
   ]
  },
  {
   "cell_type": "code",
   "execution_count": 20,
   "id": "eac07f5a",
   "metadata": {},
   "outputs": [],
   "source": [
    "device='mps' if torch.backends.mps.is_available() else 'cpu'"
   ]
  },
  {
   "cell_type": "code",
   "execution_count": 21,
   "id": "566d5939",
   "metadata": {},
   "outputs": [
    {
     "data": {
      "text/plain": [
       "VGG(\n",
       "  (features): Sequential(\n",
       "    (0): Conv2d(3, 64, kernel_size=(3, 3), stride=(1, 1), padding=(1, 1))\n",
       "    (1): ReLU(inplace=True)\n",
       "    (2): Conv2d(64, 64, kernel_size=(3, 3), stride=(1, 1), padding=(1, 1))\n",
       "    (3): ReLU(inplace=True)\n",
       "    (4): MaxPool2d(kernel_size=2, stride=2, padding=0, dilation=1, ceil_mode=False)\n",
       "    (5): Conv2d(64, 128, kernel_size=(3, 3), stride=(1, 1), padding=(1, 1))\n",
       "    (6): ReLU(inplace=True)\n",
       "    (7): Conv2d(128, 128, kernel_size=(3, 3), stride=(1, 1), padding=(1, 1))\n",
       "    (8): ReLU(inplace=True)\n",
       "    (9): MaxPool2d(kernel_size=2, stride=2, padding=0, dilation=1, ceil_mode=False)\n",
       "    (10): Conv2d(128, 256, kernel_size=(3, 3), stride=(1, 1), padding=(1, 1))\n",
       "    (11): ReLU(inplace=True)\n",
       "    (12): Conv2d(256, 256, kernel_size=(3, 3), stride=(1, 1), padding=(1, 1))\n",
       "    (13): ReLU(inplace=True)\n",
       "    (14): Conv2d(256, 256, kernel_size=(3, 3), stride=(1, 1), padding=(1, 1))\n",
       "    (15): ReLU(inplace=True)\n",
       "    (16): MaxPool2d(kernel_size=2, stride=2, padding=0, dilation=1, ceil_mode=False)\n",
       "    (17): Conv2d(256, 512, kernel_size=(3, 3), stride=(1, 1), padding=(1, 1))\n",
       "    (18): ReLU(inplace=True)\n",
       "    (19): Conv2d(512, 512, kernel_size=(3, 3), stride=(1, 1), padding=(1, 1))\n",
       "    (20): ReLU(inplace=True)\n",
       "    (21): Conv2d(512, 512, kernel_size=(3, 3), stride=(1, 1), padding=(1, 1))\n",
       "    (22): ReLU(inplace=True)\n",
       "    (23): MaxPool2d(kernel_size=2, stride=2, padding=0, dilation=1, ceil_mode=False)\n",
       "    (24): Conv2d(512, 512, kernel_size=(3, 3), stride=(1, 1), padding=(1, 1))\n",
       "    (25): ReLU(inplace=True)\n",
       "    (26): Conv2d(512, 512, kernel_size=(3, 3), stride=(1, 1), padding=(1, 1))\n",
       "    (27): ReLU(inplace=True)\n",
       "    (28): Conv2d(512, 512, kernel_size=(3, 3), stride=(1, 1), padding=(1, 1))\n",
       "    (29): ReLU(inplace=True)\n",
       "    (30): MaxPool2d(kernel_size=2, stride=2, padding=0, dilation=1, ceil_mode=False)\n",
       "  )\n",
       "  (avgpool): AdaptiveAvgPool2d(output_size=(7, 7))\n",
       "  (classifier): Sequential(\n",
       "    (0): Linear(in_features=25088, out_features=4096, bias=True)\n",
       "    (1): ReLU(inplace=True)\n",
       "    (2): Dropout(p=0.5, inplace=False)\n",
       "    (3): Linear(in_features=4096, out_features=4096, bias=True)\n",
       "    (4): ReLU(inplace=True)\n",
       "    (5): Dropout(p=0.5, inplace=False)\n",
       "    (6): Linear(in_features=4096, out_features=1, bias=True)\n",
       "  )\n",
       ")"
      ]
     },
     "execution_count": 21,
     "metadata": {},
     "output_type": "execute_result"
    }
   ],
   "source": [
    "import torch.nn as nn\n",
    "from torchvision import models\n",
    "\n",
    "model = models.vgg16(weights=models.VGG16_Weights.IMAGENET1K_V1)\n",
    "\n",
    "# Freeze all layers\n",
    "for param in model.parameters():\n",
    "    param.requires_grad = False\n",
    "\n",
    "# Replace classifier\n",
    "model.classifier[6] = nn.Linear(4096, 1)\n",
    "\n",
    "# Only the new layer will be trained\n",
    "model.to(device)"
   ]
  },
  {
   "cell_type": "code",
   "execution_count": 22,
   "id": "9feba663",
   "metadata": {},
   "outputs": [],
   "source": [
    "from torch.optim import Adam\n",
    "from torch import nn\n",
    "\n",
    "optimizer=Adam(model.parameters(),lr=1e-4)\n",
    "loss_fn=nn.BCEWithLogitsLoss()"
   ]
  },
  {
   "cell_type": "code",
   "execution_count": 23,
   "id": "7146986a",
   "metadata": {},
   "outputs": [
    {
     "data": {
      "text/plain": [
       "[('./nobirdimages/nobird1.png', 0),\n",
       " ('./nobirdimages/nobird2.png', 0),\n",
       " ('./nobirdimages/nobird3.png', 0),\n",
       " ('./nobirdimages/nobird4.png', 0),\n",
       " ('./nobirdimages/nobird5.png', 0),\n",
       " ('./nobirdimages/nobird6.png', 0),\n",
       " ('./nobirdimages/nobird7.png', 0),\n",
       " ('./nobirdimages/nobird8.png', 0),\n",
       " ('./nobirdimages/nobird9.png', 0),\n",
       " ('./nobirdimages/nobird10.png', 0),\n",
       " ('./nobirdimages/nobird11.png', 0),\n",
       " ('./nobirdimages/nobird12.png', 0),\n",
       " ('./nobirdimages/nobird13.png', 0),\n",
       " ('./nobirdimages/nobird14.png', 0),\n",
       " ('./nobirdimages/nobird15.png', 0),\n",
       " ('./nobirdimages/nobird16.png', 0),\n",
       " ('./nobirdimages/nobird17.png', 0),\n",
       " ('./nobirdimages/nobird18.png', 0),\n",
       " ('./nobirdimages/nobird19.png', 0),\n",
       " ('./nobirdimages/nobird20.png', 0),\n",
       " ('./nobirdimages/nobird21.png', 0),\n",
       " ('./nobirdimages/nobird22.png', 0),\n",
       " ('./nobirdimages/nobird23.png', 0),\n",
       " ('./nobirdimages/nobird24.png', 0),\n",
       " ('./nobirdimages/nobird25.png', 0),\n",
       " ('./nobirdimages/nobird26.png', 0),\n",
       " ('./nobirdimages/nobird27.png', 0),\n",
       " ('./nobirdimages/nobird28.png', 0),\n",
       " ('./nobirdimages/nobird29.png', 0),\n",
       " ('./nobirdimages/nobird30.png', 0),\n",
       " ('./nobirdimages/nobird31.png', 0),\n",
       " ('./nobirdimages/nobird32.png', 0),\n",
       " ('./nobirdimages/nobird33.png', 0),\n",
       " ('./nobirdimages/nobird34.png', 0),\n",
       " ('./nobirdimages/nobird35.png', 0),\n",
       " ('./nobirdimages/nobird36.png', 0),\n",
       " ('./nobirdimages/nobird37.png', 0),\n",
       " ('./nobirdimages/nobird38.png', 0),\n",
       " ('./nobirdimages/nobird39.png', 0),\n",
       " ('./nobirdimages/nobird40.png', 0),\n",
       " ('./nobirdimages/nobird41.png', 0),\n",
       " ('./nobirdimages/nobird42.png', 0),\n",
       " ('./nobirdimages/nobird43.png', 0),\n",
       " ('./nobirdimages/nobird44.png', 0),\n",
       " ('./nobirdimages/nobird45.png', 0),\n",
       " ('./nobirdimages/nobird46.png', 0),\n",
       " ('./nobirdimages/nobird47.png', 0),\n",
       " ('./nobirdimages/nobird48.png', 0),\n",
       " ('./nobirdimages/nobird49.png', 0),\n",
       " ('./nobirdimages/nobird50.png', 0),\n",
       " ('./nobirdimages/nobird51.png', 0),\n",
       " ('./nobirdimages/nobird52.png', 0),\n",
       " ('./nobirdimages/nobird53.png', 0),\n",
       " ('./nobirdimages/nobird54.png', 0),\n",
       " ('./nobirdimages/nobird55.png', 0),\n",
       " ('./nobirdimages/nobird56.png', 0),\n",
       " ('./nobirdimages/nobird57.png', 0),\n",
       " ('./nobirdimages/nobird58.png', 0),\n",
       " ('./nobirdimages/nobird59.png', 0),\n",
       " ('./nobirdimages/nobird60.png', 0),\n",
       " ('./nobirdimages/nobird61.png', 0),\n",
       " ('./nobirdimages/nobird62.png', 0),\n",
       " ('./nobirdimages/nobird63.png', 0),\n",
       " ('./nobirdimages/nobird64.png', 0),\n",
       " ('./nobirdimages/nobird65.png', 0),\n",
       " ('./nobirdimages/nobird66.png', 0),\n",
       " ('./nobirdimages/nobird67.png', 0),\n",
       " ('./nobirdimages/nobird68.png', 0),\n",
       " ('./nobirdimages/nobird69.png', 0),\n",
       " ('./nobirdimages/nobird70.png', 0),\n",
       " ('./nobirdimages/nobird71.png', 0),\n",
       " ('./nobirdimages/nobird72.png', 0),\n",
       " ('./nobirdimages/nobird73.png', 0),\n",
       " ('./nobirdimages/nobird74.png', 0),\n",
       " ('./nobirdimages/nobird75.png', 0),\n",
       " ('./nobirdimages/nobird76.png', 0),\n",
       " ('./nobirdimages/nobird77.png', 0),\n",
       " ('./nobirdimages/nobird78.png', 0),\n",
       " ('./nobirdimages/nobird79.png', 0),\n",
       " ('./nobirdimages/nobird80.png', 0),\n",
       " ('./nobirdimages/nobird81.png', 0),\n",
       " ('./nobirdimages/nobird82.png', 0),\n",
       " ('./nobirdimages/nobird83.png', 0),\n",
       " ('./nobirdimages/nobird84.png', 0),\n",
       " ('./nobirdimages/nobird85.png', 0),\n",
       " ('./nobirdimages/nobird86.png', 0),\n",
       " ('./nobirdimages/nobird87.png', 0),\n",
       " ('./nobirdimages/nobird88.png', 0),\n",
       " ('./nobirdimages/nobird89.png', 0),\n",
       " ('./nobirdimages/nobird90.png', 0),\n",
       " ('./nobirdimages/nobird91.png', 0),\n",
       " ('./nobirdimages/nobird92.png', 0),\n",
       " ('./nobirdimages/nobird93.png', 0),\n",
       " ('./nobirdimages/nobird94.png', 0),\n",
       " ('./nobirdimages/nobird95.png', 0),\n",
       " ('./nobirdimages/nobird96.png', 0),\n",
       " ('./nobirdimages/nobird97.png', 0),\n",
       " ('./nobirdimages/nobird98.png', 0),\n",
       " ('./nobirdimages/nobird99.png', 0),\n",
       " ('./nobirdimages/nobird100.png', 0),\n",
       " ('./nobirdimages/nobird101.png', 0),\n",
       " ('./nobirdimages/nobird102.png', 0),\n",
       " ('./nobirdimages/nobird103.png', 0),\n",
       " ('./nobirdimages/nobird104.png', 0),\n",
       " ('./nobirdimages/nobird105.png', 0),\n",
       " ('./nobirdimages/nobird106.png', 0),\n",
       " ('./nobirdimages/nobird107.png', 0),\n",
       " ('./nobirdimages/nobird108.png', 0),\n",
       " ('./nobirdimages/nobird109.png', 0),\n",
       " ('./nobirdimages/nobird110.png', 0),\n",
       " ('./nobirdimages/nobird111.png', 0),\n",
       " ('./nobirdimages/nobird112.png', 0),\n",
       " ('./nobirdimages/nobird113.png', 0),\n",
       " ('./nobirdimages/nobird114.png', 0),\n",
       " ('./nobirdimages/nobird115.png', 0),\n",
       " ('./nobirdimages/nobird116.png', 0),\n",
       " ('./nobirdimages/nobird117.png', 0),\n",
       " ('./nobirdimages/nobird118.png', 0),\n",
       " ('./nobirdimages/nobird119.png', 0),\n",
       " ('./nobirdimages/nobird120.png', 0),\n",
       " ('./nobirdimages/nobird121.png', 0),\n",
       " ('./nobirdimages/nobird122.png', 0),\n",
       " ('./nobirdimages/nobird123.png', 0),\n",
       " ('./nobirdimages/nobird124.png', 0),\n",
       " ('./nobirdimages/nobird125.png', 0),\n",
       " ('./nobirdimages/nobird126.png', 0),\n",
       " ('./nobirdimages/nobird127.png', 0),\n",
       " ('./nobirdimages/nobird128.png', 0),\n",
       " ('./nobirdimages/nobird129.png', 0),\n",
       " ('./nobirdimages/nobird130.png', 0),\n",
       " ('./nobirdimages/nobird131.png', 0),\n",
       " ('./nobirdimages/nobird132.png', 0),\n",
       " ('./nobirdimages/nobird133.png', 0),\n",
       " ('./nobirdimages/nobird134.png', 0),\n",
       " ('./nobirdimages/nobird135.png', 0),\n",
       " ('./nobirdimages/nobird136.png', 0),\n",
       " ('./nobirdimages/nobird137.png', 0),\n",
       " ('./nobirdimages/nobird138.png', 0),\n",
       " ('./nobirdimages/nobird139.png', 0),\n",
       " ('./nobirdimages/nobird140.png', 0),\n",
       " ('./nobirdimages/nobird141.png', 0),\n",
       " ('./nobirdimages/nobird142.png', 0),\n",
       " ('./nobirdimages/nobird143.png', 0),\n",
       " ('./nobirdimages/nobird144.png', 0),\n",
       " ('./nobirdimages/nobird145.png', 0),\n",
       " ('./nobirdimages/nobird146.png', 0),\n",
       " ('./nobirdimages/nobird147.png', 0),\n",
       " ('./nobirdimages/nobird148.png', 0),\n",
       " ('./nobirdimages/nobird149.png', 0),\n",
       " ('./nobirdimages/nobird150.png', 0),\n",
       " ('./nobirdimages/nobird151.png', 0),\n",
       " ('./nobirdimages/nobird152.png', 0),\n",
       " ('./nobirdimages/nobird153.png', 0),\n",
       " ('./nobirdimages/nobird154.png', 0),\n",
       " ('./nobirdimages/nobird155.png', 0),\n",
       " ('./nobirdimages/nobird156.png', 0),\n",
       " ('./nobirdimages/nobird157.png', 0),\n",
       " ('./nobirdimages/nobird158.png', 0),\n",
       " ('./nobirdimages/nobird159.png', 0),\n",
       " ('./nobirdimages/nobird160.png', 0),\n",
       " ('./nobirdimages/nobird161.png', 0),\n",
       " ('./nobirdimages/nobird162.png', 0),\n",
       " ('./nobirdimages/nobird163.png', 0),\n",
       " ('./nobirdimages/nobird164.png', 0),\n",
       " ('./nobirdimages/nobird165.png', 0),\n",
       " ('./nobirdimages/nobird166.png', 0),\n",
       " ('./nobirdimages/nobird167.png', 0),\n",
       " ('./nobirdimages/nobird168.png', 0),\n",
       " ('./nobirdimages/nobird169.png', 0),\n",
       " ('./nobirdimages/nobird170.png', 0),\n",
       " ('./nobirdimages/nobird171.png', 0),\n",
       " ('./nobirdimages/nobird172.png', 0),\n",
       " ('./nobirdimages/nobird173.png', 0),\n",
       " ('./nobirdimages/nobird174.png', 0),\n",
       " ('./nobirdimages/nobird175.png', 0),\n",
       " ('./nobirdimages/nobird176.png', 0),\n",
       " ('./nobirdimages/nobird177.png', 0),\n",
       " ('./nobirdimages/nobird178.png', 0),\n",
       " ('./nobirdimages/nobird179.png', 0),\n",
       " ('./nobirdimages/nobird180.png', 0),\n",
       " ('./nobirdimages/nobird181.png', 0),\n",
       " ('./nobirdimages/nobird182.png', 0),\n",
       " ('./nobirdimages/nobird183.png', 0),\n",
       " ('./nobirdimages/nobird184.png', 0),\n",
       " ('./nobirdimages/nobird185.png', 0),\n",
       " ('./nobirdimages/nobird186.png', 0),\n",
       " ('./nobirdimages/nobird187.png', 0),\n",
       " ('./nobirdimages/nobird188.png', 0),\n",
       " ('./nobirdimages/nobird189.png', 0),\n",
       " ('./nobirdimages/nobird190.png', 0),\n",
       " ('./nobirdimages/nobird191.png', 0),\n",
       " ('./nobirdimages/nobird192.png', 0),\n",
       " ('./nobirdimages/nobird193.png', 0),\n",
       " ('./nobirdimages/nobird194.png', 0),\n",
       " ('./nobirdimages/nobird195.png', 0),\n",
       " ('./nobirdimages/nobird196.png', 0),\n",
       " ('./nobirdimages/nobird197.png', 0),\n",
       " ('./nobirdimages/nobird198.png', 0),\n",
       " ('./nobirdimages/nobird199.png', 0),\n",
       " ('./nobirdimages/nobird200.png', 0),\n",
       " ('./nobirdimages/nobird201.png', 0),\n",
       " ('./nobirdimages/nobird202.png', 0),\n",
       " ('./nobirdimages/nobird203.png', 0),\n",
       " ('./nobirdimages/nobird204.png', 0),\n",
       " ('./nobirdimages/nobird205.png', 0),\n",
       " ('./nobirdimages/nobird206.png', 0),\n",
       " ('./nobirdimages/nobird207.png', 0),\n",
       " ('./nobirdimages/nobird208.png', 0)]"
      ]
     },
     "execution_count": 23,
     "metadata": {},
     "output_type": "execute_result"
    }
   ],
   "source": [
    "nobirdspaths"
   ]
  },
  {
   "cell_type": "code",
   "execution_count": 24,
   "id": "a8d9f7b3",
   "metadata": {},
   "outputs": [
    {
     "data": {
      "text/plain": [
       "[('./birdimages/bird1.png', 1),\n",
       " ('./birdimages/bird2.png', 1),\n",
       " ('./birdimages/bird3.png', 1),\n",
       " ('./birdimages/bird4.png', 1),\n",
       " ('./birdimages/bird5.png', 1),\n",
       " ('./birdimages/bird6.png', 1),\n",
       " ('./birdimages/bird7.png', 1),\n",
       " ('./birdimages/bird8.png', 1),\n",
       " ('./birdimages/bird9.png', 1),\n",
       " ('./birdimages/bird10.png', 1),\n",
       " ('./birdimages/bird11.png', 1),\n",
       " ('./birdimages/bird12.png', 1),\n",
       " ('./birdimages/bird13.png', 1),\n",
       " ('./birdimages/bird14.png', 1),\n",
       " ('./birdimages/bird15.png', 1),\n",
       " ('./birdimages/bird16.png', 1),\n",
       " ('./birdimages/bird17.png', 1),\n",
       " ('./birdimages/bird18.png', 1),\n",
       " ('./birdimages/bird19.png', 1),\n",
       " ('./birdimages/bird20.png', 1),\n",
       " ('./birdimages/bird21.png', 1),\n",
       " ('./birdimages/bird22.png', 1),\n",
       " ('./birdimages/bird23.png', 1),\n",
       " ('./birdimages/bird24.png', 1),\n",
       " ('./birdimages/bird25.png', 1),\n",
       " ('./birdimages/bird26.png', 1),\n",
       " ('./birdimages/bird27.png', 1),\n",
       " ('./birdimages/bird28.png', 1),\n",
       " ('./birdimages/bird29.png', 1),\n",
       " ('./birdimages/bird30.png', 1),\n",
       " ('./birdimages/bird31.png', 1),\n",
       " ('./birdimages/bird32.png', 1),\n",
       " ('./birdimages/bird33.png', 1),\n",
       " ('./birdimages/bird34.png', 1),\n",
       " ('./birdimages/bird35.png', 1),\n",
       " ('./birdimages/bird36.png', 1),\n",
       " ('./birdimages/bird37.png', 1),\n",
       " ('./birdimages/bird38.png', 1),\n",
       " ('./birdimages/bird39.png', 1),\n",
       " ('./birdimages/bird40.png', 1),\n",
       " ('./birdimages/bird41.png', 1),\n",
       " ('./birdimages/bird42.png', 1),\n",
       " ('./birdimages/bird43.png', 1),\n",
       " ('./birdimages/bird44.png', 1),\n",
       " ('./birdimages/bird45.png', 1),\n",
       " ('./birdimages/bird46.png', 1),\n",
       " ('./birdimages/bird47.png', 1),\n",
       " ('./birdimages/bird48.png', 1),\n",
       " ('./birdimages/bird49.png', 1),\n",
       " ('./birdimages/bird50.png', 1),\n",
       " ('./birdimages/bird51.png', 1),\n",
       " ('./birdimages/bird52.png', 1),\n",
       " ('./birdimages/bird53.png', 1),\n",
       " ('./birdimages/bird54.png', 1),\n",
       " ('./birdimages/bird55.png', 1),\n",
       " ('./birdimages/bird56.png', 1),\n",
       " ('./birdimages/bird57.png', 1),\n",
       " ('./birdimages/bird58.png', 1),\n",
       " ('./birdimages/bird59.png', 1),\n",
       " ('./birdimages/bird60.png', 1),\n",
       " ('./birdimages/bird61.png', 1),\n",
       " ('./birdimages/bird62.png', 1),\n",
       " ('./birdimages/bird63.png', 1),\n",
       " ('./birdimages/bird64.png', 1),\n",
       " ('./birdimages/bird65.png', 1),\n",
       " ('./birdimages/bird66.png', 1),\n",
       " ('./birdimages/bird67.png', 1),\n",
       " ('./birdimages/bird68.png', 1),\n",
       " ('./birdimages/bird69.png', 1),\n",
       " ('./birdimages/bird70.png', 1),\n",
       " ('./birdimages/bird71.png', 1),\n",
       " ('./birdimages/bird72.png', 1),\n",
       " ('./birdimages/bird73.png', 1),\n",
       " ('./birdimages/bird74.png', 1),\n",
       " ('./birdimages/bird75.png', 1),\n",
       " ('./birdimages/bird76.png', 1),\n",
       " ('./birdimages/bird77.png', 1),\n",
       " ('./birdimages/bird78.png', 1),\n",
       " ('./birdimages/bird79.png', 1),\n",
       " ('./birdimages/bird80.png', 1),\n",
       " ('./birdimages/bird81.png', 1),\n",
       " ('./birdimages/bird82.png', 1),\n",
       " ('./birdimages/bird83.png', 1),\n",
       " ('./birdimages/bird84.png', 1),\n",
       " ('./birdimages/bird85.png', 1),\n",
       " ('./birdimages/bird86.png', 1),\n",
       " ('./birdimages/bird87.png', 1),\n",
       " ('./birdimages/bird88.png', 1),\n",
       " ('./birdimages/bird89.png', 1),\n",
       " ('./birdimages/bird90.png', 1),\n",
       " ('./birdimages/bird91.png', 1),\n",
       " ('./birdimages/bird92.png', 1),\n",
       " ('./birdimages/bird93.png', 1),\n",
       " ('./birdimages/bird94.png', 1),\n",
       " ('./birdimages/bird95.png', 1),\n",
       " ('./birdimages/bird96.png', 1),\n",
       " ('./birdimages/bird97.png', 1),\n",
       " ('./birdimages/bird98.png', 1),\n",
       " ('./birdimages/bird99.png', 1),\n",
       " ('./birdimages/bird100.png', 1),\n",
       " ('./birdimages/bird101.png', 1),\n",
       " ('./birdimages/bird102.png', 1),\n",
       " ('./birdimages/bird103.png', 1),\n",
       " ('./birdimages/bird104.png', 1),\n",
       " ('./birdimages/bird105.png', 1),\n",
       " ('./birdimages/bird106.png', 1),\n",
       " ('./birdimages/bird107.png', 1),\n",
       " ('./birdimages/bird108.png', 1),\n",
       " ('./birdimages/bird109.png', 1),\n",
       " ('./birdimages/bird110.png', 1),\n",
       " ('./birdimages/bird111.png', 1),\n",
       " ('./birdimages/bird112.png', 1),\n",
       " ('./birdimages/bird113.png', 1),\n",
       " ('./birdimages/bird114.png', 1),\n",
       " ('./birdimages/bird115.png', 1),\n",
       " ('./birdimages/bird116.png', 1),\n",
       " ('./birdimages/bird117.png', 1),\n",
       " ('./birdimages/bird118.png', 1),\n",
       " ('./birdimages/bird119.png', 1),\n",
       " ('./birdimages/bird120.png', 1),\n",
       " ('./birdimages/bird121.png', 1),\n",
       " ('./birdimages/bird122.png', 1),\n",
       " ('./birdimages/bird123.png', 1),\n",
       " ('./birdimages/bird124.png', 1),\n",
       " ('./birdimages/bird125.png', 1),\n",
       " ('./birdimages/bird126.png', 1),\n",
       " ('./birdimages/bird127.png', 1),\n",
       " ('./birdimages/bird128.png', 1),\n",
       " ('./birdimages/bird129.png', 1),\n",
       " ('./birdimages/bird130.png', 1),\n",
       " ('./birdimages/bird131.png', 1),\n",
       " ('./birdimages/bird132.png', 1),\n",
       " ('./birdimages/bird133.png', 1),\n",
       " ('./birdimages/bird134.png', 1),\n",
       " ('./birdimages/bird135.png', 1),\n",
       " ('./birdimages/bird136.png', 1),\n",
       " ('./birdimages/bird137.png', 1),\n",
       " ('./birdimages/bird138.png', 1),\n",
       " ('./birdimages/bird139.png', 1),\n",
       " ('./birdimages/bird140.png', 1),\n",
       " ('./birdimages/bird141.png', 1),\n",
       " ('./birdimages/bird142.png', 1),\n",
       " ('./birdimages/bird143.png', 1),\n",
       " ('./birdimages/bird144.png', 1),\n",
       " ('./birdimages/bird145.png', 1),\n",
       " ('./birdimages/bird146.png', 1),\n",
       " ('./birdimages/bird147.png', 1),\n",
       " ('./birdimages/bird148.png', 1),\n",
       " ('./birdimages/bird149.png', 1),\n",
       " ('./birdimages/bird150.png', 1),\n",
       " ('./birdimages/bird151.png', 1),\n",
       " ('./birdimages/bird152.png', 1),\n",
       " ('./birdimages/bird153.png', 1),\n",
       " ('./birdimages/bird154.png', 1),\n",
       " ('./birdimages/bird155.png', 1),\n",
       " ('./birdimages/bird156.png', 1),\n",
       " ('./birdimages/bird157.png', 1),\n",
       " ('./birdimages/bird158.png', 1),\n",
       " ('./birdimages/bird159.png', 1),\n",
       " ('./birdimages/bird160.png', 1),\n",
       " ('./birdimages/bird161.png', 1),\n",
       " ('./birdimages/bird162.png', 1),\n",
       " ('./birdimages/bird163.png', 1),\n",
       " ('./birdimages/bird164.png', 1),\n",
       " ('./birdimages/bird165.png', 1),\n",
       " ('./birdimages/bird166.png', 1),\n",
       " ('./birdimages/bird167.png', 1),\n",
       " ('./birdimages/bird168.png', 1),\n",
       " ('./birdimages/bird169.png', 1),\n",
       " ('./birdimages/bird170.png', 1),\n",
       " ('./birdimages/bird171.png', 1),\n",
       " ('./birdimages/bird172.png', 1),\n",
       " ('./birdimages/bird173.png', 1),\n",
       " ('./birdimages/bird174.png', 1),\n",
       " ('./birdimages/bird175.png', 1),\n",
       " ('./birdimages/bird176.png', 1),\n",
       " ('./birdimages/bird177.png', 1),\n",
       " ('./birdimages/bird178.png', 1),\n",
       " ('./birdimages/bird179.png', 1),\n",
       " ('./birdimages/bird180.png', 1),\n",
       " ('./birdimages/bird181.png', 1),\n",
       " ('./birdimages/bird182.png', 1),\n",
       " ('./birdimages/bird183.png', 1),\n",
       " ('./birdimages/bird184.png', 1),\n",
       " ('./birdimages/bird185.png', 1),\n",
       " ('./birdimages/bird186.png', 1),\n",
       " ('./birdimages/bird187.png', 1),\n",
       " ('./birdimages/bird188.png', 1),\n",
       " ('./birdimages/bird189.png', 1),\n",
       " ('./birdimages/bird190.png', 1),\n",
       " ('./birdimages/bird191.png', 1),\n",
       " ('./birdimages/bird192.png', 1),\n",
       " ('./birdimages/bird193.png', 1),\n",
       " ('./birdimages/bird194.png', 1),\n",
       " ('./birdimages/bird195.png', 1),\n",
       " ('./birdimages/bird196.png', 1),\n",
       " ('./birdimages/bird197.png', 1),\n",
       " ('./birdimages/bird198.png', 1),\n",
       " ('./birdimages/bird199.png', 1),\n",
       " ('./birdimages/bird200.png', 1),\n",
       " ('./birdimages/bird201.png', 1),\n",
       " ('./birdimages/bird202.png', 1),\n",
       " ('./birdimages/bird203.png', 1),\n",
       " ('./birdimages/bird204.png', 1),\n",
       " ('./birdimages/bird205.png', 1),\n",
       " ('./birdimages/bird206.png', 1),\n",
       " ('./birdimages/bird207.png', 1),\n",
       " ('./birdimages/bird208.png', 1),\n",
       " ('./birdimages/bird209.png', 1),\n",
       " ('./birdimages/bird210.png', 1),\n",
       " ('./birdimages/bird211.png', 1),\n",
       " ('./birdimages/bird212.png', 1),\n",
       " ('./birdimages/bird213.png', 1),\n",
       " ('./birdimages/bird214.png', 1),\n",
       " ('./birdimages/bird215.png', 1),\n",
       " ('./birdimages/bird216.png', 1)]"
      ]
     },
     "execution_count": 24,
     "metadata": {},
     "output_type": "execute_result"
    }
   ],
   "source": [
    "birdspaths"
   ]
  },
  {
   "cell_type": "code",
   "execution_count": 25,
   "id": "18a6737e",
   "metadata": {},
   "outputs": [],
   "source": [
    "from PIL import Image"
   ]
  },
  {
   "cell_type": "code",
   "execution_count": 27,
   "id": "4ffe930f",
   "metadata": {},
   "outputs": [
    {
     "name": "stdout",
     "output_type": "stream",
     "text": [
      "\n",
      "Epoch 1/50\n",
      "--------------------------------------------------\n"
     ]
    },
    {
     "name": "stderr",
     "output_type": "stream",
     "text": [
      "Training: 100%|██████████| 85/85 [00:09<00:00,  8.76it/s]\n",
      "Validation: 100%|██████████| 22/22 [00:01<00:00, 14.05it/s]\n"
     ]
    },
    {
     "name": "stdout",
     "output_type": "stream",
     "text": [
      "Train Loss: 0.2932 | Train Acc: 0.9142\n",
      "Val Loss: 0.3102 | Val Acc: 0.9186\n",
      "✓ Best model saved! Val Acc: 0.9186\n",
      "\n",
      "Epoch 2/50\n",
      "--------------------------------------------------\n"
     ]
    },
    {
     "name": "stderr",
     "output_type": "stream",
     "text": [
      "Training: 100%|██████████| 85/85 [00:06<00:00, 12.15it/s]\n",
      "Validation: 100%|██████████| 22/22 [00:01<00:00, 12.05it/s]\n"
     ]
    },
    {
     "name": "stdout",
     "output_type": "stream",
     "text": [
      "Train Loss: 0.2633 | Train Acc: 0.9586\n",
      "Val Loss: 0.3042 | Val Acc: 0.9070\n",
      "\n",
      "Epoch 3/50\n",
      "--------------------------------------------------\n"
     ]
    },
    {
     "name": "stderr",
     "output_type": "stream",
     "text": [
      "Training: 100%|██████████| 85/85 [00:06<00:00, 13.73it/s]\n",
      "Validation: 100%|██████████| 22/22 [00:01<00:00, 14.96it/s]\n"
     ]
    },
    {
     "name": "stdout",
     "output_type": "stream",
     "text": [
      "Train Loss: 0.2604 | Train Acc: 0.9467\n",
      "Val Loss: 0.2977 | Val Acc: 0.9186\n",
      "\n",
      "Epoch 4/50\n",
      "--------------------------------------------------\n"
     ]
    },
    {
     "name": "stderr",
     "output_type": "stream",
     "text": [
      "Training: 100%|██████████| 85/85 [00:05<00:00, 14.82it/s]\n",
      "Validation: 100%|██████████| 22/22 [00:01<00:00, 14.64it/s]\n"
     ]
    },
    {
     "name": "stdout",
     "output_type": "stream",
     "text": [
      "Train Loss: 0.2693 | Train Acc: 0.9349\n",
      "Val Loss: 0.2924 | Val Acc: 0.9070\n",
      "\n",
      "Epoch 5/50\n",
      "--------------------------------------------------\n"
     ]
    },
    {
     "name": "stderr",
     "output_type": "stream",
     "text": [
      "Training: 100%|██████████| 85/85 [00:05<00:00, 14.42it/s]\n",
      "Validation: 100%|██████████| 22/22 [00:01<00:00, 14.74it/s]\n"
     ]
    },
    {
     "name": "stdout",
     "output_type": "stream",
     "text": [
      "Train Loss: 0.2662 | Train Acc: 0.9467\n",
      "Val Loss: 0.2871 | Val Acc: 0.9186\n",
      "\n",
      "Epoch 6/50\n",
      "--------------------------------------------------\n"
     ]
    },
    {
     "name": "stderr",
     "output_type": "stream",
     "text": [
      "Training: 100%|██████████| 85/85 [00:05<00:00, 14.29it/s]\n",
      "Validation: 100%|██████████| 22/22 [00:01<00:00, 14.00it/s]\n"
     ]
    },
    {
     "name": "stdout",
     "output_type": "stream",
     "text": [
      "Train Loss: 0.2571 | Train Acc: 0.9349\n",
      "Val Loss: 0.2846 | Val Acc: 0.9302\n",
      "✓ Best model saved! Val Acc: 0.9302\n",
      "\n",
      "Epoch 7/50\n",
      "--------------------------------------------------\n"
     ]
    },
    {
     "name": "stderr",
     "output_type": "stream",
     "text": [
      "Training: 100%|██████████| 85/85 [00:06<00:00, 14.09it/s]\n",
      "Validation: 100%|██████████| 22/22 [00:01<00:00, 14.96it/s]\n"
     ]
    },
    {
     "name": "stdout",
     "output_type": "stream",
     "text": [
      "Train Loss: 0.2270 | Train Acc: 0.9615\n",
      "Val Loss: 0.2792 | Val Acc: 0.9186\n",
      "\n",
      "Epoch 8/50\n",
      "--------------------------------------------------\n"
     ]
    },
    {
     "name": "stderr",
     "output_type": "stream",
     "text": [
      "Training: 100%|██████████| 85/85 [00:06<00:00, 14.15it/s]\n",
      "Validation: 100%|██████████| 22/22 [00:01<00:00, 13.59it/s]\n"
     ]
    },
    {
     "name": "stdout",
     "output_type": "stream",
     "text": [
      "Train Loss: 0.2215 | Train Acc: 0.9615\n",
      "Val Loss: 0.2751 | Val Acc: 0.9302\n",
      "\n",
      "Epoch 9/50\n",
      "--------------------------------------------------\n"
     ]
    },
    {
     "name": "stderr",
     "output_type": "stream",
     "text": [
      "Training: 100%|██████████| 85/85 [00:06<00:00, 13.92it/s]\n",
      "Validation: 100%|██████████| 22/22 [00:01<00:00, 14.11it/s]\n"
     ]
    },
    {
     "name": "stdout",
     "output_type": "stream",
     "text": [
      "Train Loss: 0.2260 | Train Acc: 0.9586\n",
      "Val Loss: 0.2711 | Val Acc: 0.9302\n",
      "\n",
      "Epoch 10/50\n",
      "--------------------------------------------------\n"
     ]
    },
    {
     "name": "stderr",
     "output_type": "stream",
     "text": [
      "Training: 100%|██████████| 85/85 [00:06<00:00, 13.37it/s]\n",
      "Validation: 100%|██████████| 22/22 [00:01<00:00, 13.64it/s]\n"
     ]
    },
    {
     "name": "stdout",
     "output_type": "stream",
     "text": [
      "Train Loss: 0.2349 | Train Acc: 0.9467\n",
      "Val Loss: 0.2676 | Val Acc: 0.9070\n",
      "\n",
      "Epoch 11/50\n",
      "--------------------------------------------------\n"
     ]
    },
    {
     "name": "stderr",
     "output_type": "stream",
     "text": [
      "Training: 100%|██████████| 85/85 [00:06<00:00, 13.95it/s]\n",
      "Validation: 100%|██████████| 22/22 [00:01<00:00, 14.23it/s]\n"
     ]
    },
    {
     "name": "stdout",
     "output_type": "stream",
     "text": [
      "Train Loss: 0.2269 | Train Acc: 0.9467\n",
      "Val Loss: 0.2649 | Val Acc: 0.9302\n",
      "\n",
      "Epoch 12/50\n",
      "--------------------------------------------------\n"
     ]
    },
    {
     "name": "stderr",
     "output_type": "stream",
     "text": [
      "Training: 100%|██████████| 85/85 [00:06<00:00, 13.78it/s]\n",
      "Validation: 100%|██████████| 22/22 [00:01<00:00, 14.79it/s]\n"
     ]
    },
    {
     "name": "stdout",
     "output_type": "stream",
     "text": [
      "Train Loss: 0.2317 | Train Acc: 0.9467\n",
      "Val Loss: 0.2617 | Val Acc: 0.9070\n",
      "\n",
      "Epoch 13/50\n",
      "--------------------------------------------------\n"
     ]
    },
    {
     "name": "stderr",
     "output_type": "stream",
     "text": [
      "Training: 100%|██████████| 85/85 [00:05<00:00, 14.17it/s]\n",
      "Validation: 100%|██████████| 22/22 [00:01<00:00, 13.98it/s]\n"
     ]
    },
    {
     "name": "stdout",
     "output_type": "stream",
     "text": [
      "Train Loss: 0.2171 | Train Acc: 0.9675\n",
      "Val Loss: 0.2595 | Val Acc: 0.9302\n",
      "\n",
      "Epoch 14/50\n",
      "--------------------------------------------------\n"
     ]
    },
    {
     "name": "stderr",
     "output_type": "stream",
     "text": [
      "Training: 100%|██████████| 85/85 [00:06<00:00, 12.75it/s]\n",
      "Validation: 100%|██████████| 22/22 [00:01<00:00, 14.02it/s]\n"
     ]
    },
    {
     "name": "stdout",
     "output_type": "stream",
     "text": [
      "Train Loss: 0.2138 | Train Acc: 0.9379\n",
      "Val Loss: 0.2579 | Val Acc: 0.9070\n",
      "\n",
      "Epoch 15/50\n",
      "--------------------------------------------------\n"
     ]
    },
    {
     "name": "stderr",
     "output_type": "stream",
     "text": [
      "Training: 100%|██████████| 85/85 [00:06<00:00, 13.51it/s]\n",
      "Validation: 100%|██████████| 22/22 [00:01<00:00, 13.81it/s]\n"
     ]
    },
    {
     "name": "stdout",
     "output_type": "stream",
     "text": [
      "Train Loss: 0.2068 | Train Acc: 0.9467\n",
      "Val Loss: 0.2561 | Val Acc: 0.9302\n",
      "\n",
      "Epoch 16/50\n",
      "--------------------------------------------------\n"
     ]
    },
    {
     "name": "stderr",
     "output_type": "stream",
     "text": [
      "Training: 100%|██████████| 85/85 [00:05<00:00, 14.18it/s]\n",
      "Validation: 100%|██████████| 22/22 [00:01<00:00, 15.31it/s]\n"
     ]
    },
    {
     "name": "stdout",
     "output_type": "stream",
     "text": [
      "Train Loss: 0.2020 | Train Acc: 0.9556\n",
      "Val Loss: 0.2527 | Val Acc: 0.9186\n",
      "\n",
      "Epoch 17/50\n",
      "--------------------------------------------------\n"
     ]
    },
    {
     "name": "stderr",
     "output_type": "stream",
     "text": [
      "Training: 100%|██████████| 85/85 [00:05<00:00, 14.71it/s]\n",
      "Validation: 100%|██████████| 22/22 [00:01<00:00, 14.84it/s]\n"
     ]
    },
    {
     "name": "stdout",
     "output_type": "stream",
     "text": [
      "Train Loss: 0.2097 | Train Acc: 0.9527\n",
      "Val Loss: 0.2501 | Val Acc: 0.9186\n",
      "\n",
      "Epoch 18/50\n",
      "--------------------------------------------------\n"
     ]
    },
    {
     "name": "stderr",
     "output_type": "stream",
     "text": [
      "Training: 100%|██████████| 85/85 [00:05<00:00, 14.46it/s]\n",
      "Validation: 100%|██████████| 22/22 [00:01<00:00, 15.51it/s]\n"
     ]
    },
    {
     "name": "stdout",
     "output_type": "stream",
     "text": [
      "Train Loss: 0.2005 | Train Acc: 0.9527\n",
      "Val Loss: 0.2479 | Val Acc: 0.9302\n",
      "\n",
      "Epoch 19/50\n",
      "--------------------------------------------------\n"
     ]
    },
    {
     "name": "stderr",
     "output_type": "stream",
     "text": [
      "Training: 100%|██████████| 85/85 [00:05<00:00, 15.03it/s]\n",
      "Validation: 100%|██████████| 22/22 [00:01<00:00, 15.28it/s]\n"
     ]
    },
    {
     "name": "stdout",
     "output_type": "stream",
     "text": [
      "Train Loss: 0.1903 | Train Acc: 0.9586\n",
      "Val Loss: 0.2478 | Val Acc: 0.9419\n",
      "✓ Best model saved! Val Acc: 0.9419\n",
      "\n",
      "Epoch 20/50\n",
      "--------------------------------------------------\n"
     ]
    },
    {
     "name": "stderr",
     "output_type": "stream",
     "text": [
      "Training: 100%|██████████| 85/85 [00:05<00:00, 15.03it/s]\n",
      "Validation: 100%|██████████| 22/22 [00:01<00:00, 15.58it/s]\n"
     ]
    },
    {
     "name": "stdout",
     "output_type": "stream",
     "text": [
      "Train Loss: 0.2040 | Train Acc: 0.9645\n",
      "Val Loss: 0.2465 | Val Acc: 0.9419\n",
      "\n",
      "Epoch 21/50\n",
      "--------------------------------------------------\n"
     ]
    },
    {
     "name": "stderr",
     "output_type": "stream",
     "text": [
      "Training: 100%|██████████| 85/85 [00:05<00:00, 14.51it/s]\n",
      "Validation: 100%|██████████| 22/22 [00:01<00:00, 14.79it/s]\n"
     ]
    },
    {
     "name": "stdout",
     "output_type": "stream",
     "text": [
      "Train Loss: 0.1890 | Train Acc: 0.9556\n",
      "Val Loss: 0.2422 | Val Acc: 0.9186\n",
      "\n",
      "Epoch 22/50\n",
      "--------------------------------------------------\n"
     ]
    },
    {
     "name": "stderr",
     "output_type": "stream",
     "text": [
      "Training: 100%|██████████| 85/85 [00:05<00:00, 14.74it/s]\n",
      "Validation: 100%|██████████| 22/22 [00:01<00:00, 11.01it/s]\n"
     ]
    },
    {
     "name": "stdout",
     "output_type": "stream",
     "text": [
      "Train Loss: 0.1768 | Train Acc: 0.9556\n",
      "Val Loss: 0.2401 | Val Acc: 0.9302\n",
      "\n",
      "Epoch 23/50\n",
      "--------------------------------------------------\n"
     ]
    },
    {
     "name": "stderr",
     "output_type": "stream",
     "text": [
      "Training: 100%|██████████| 85/85 [00:06<00:00, 13.96it/s]\n",
      "Validation: 100%|██████████| 22/22 [00:01<00:00, 14.67it/s]\n"
     ]
    },
    {
     "name": "stdout",
     "output_type": "stream",
     "text": [
      "Train Loss: 0.1744 | Train Acc: 0.9586\n",
      "Val Loss: 0.2383 | Val Acc: 0.9302\n",
      "\n",
      "Epoch 24/50\n",
      "--------------------------------------------------\n"
     ]
    },
    {
     "name": "stderr",
     "output_type": "stream",
     "text": [
      "Training: 100%|██████████| 85/85 [00:06<00:00, 13.18it/s]\n",
      "Validation: 100%|██████████| 22/22 [00:01<00:00, 14.19it/s]\n"
     ]
    },
    {
     "name": "stdout",
     "output_type": "stream",
     "text": [
      "Train Loss: 0.1880 | Train Acc: 0.9467\n",
      "Val Loss: 0.2368 | Val Acc: 0.9419\n",
      "\n",
      "Epoch 25/50\n",
      "--------------------------------------------------\n"
     ]
    },
    {
     "name": "stderr",
     "output_type": "stream",
     "text": [
      "Training: 100%|██████████| 85/85 [00:05<00:00, 14.40it/s]\n",
      "Validation: 100%|██████████| 22/22 [00:01<00:00, 14.57it/s]\n"
     ]
    },
    {
     "name": "stdout",
     "output_type": "stream",
     "text": [
      "Train Loss: 0.1715 | Train Acc: 0.9586\n",
      "Val Loss: 0.2376 | Val Acc: 0.9302\n",
      "\n",
      "Epoch 26/50\n",
      "--------------------------------------------------\n"
     ]
    },
    {
     "name": "stderr",
     "output_type": "stream",
     "text": [
      "Training: 100%|██████████| 85/85 [00:06<00:00, 13.77it/s]\n",
      "Validation: 100%|██████████| 22/22 [00:01<00:00, 13.65it/s]\n"
     ]
    },
    {
     "name": "stdout",
     "output_type": "stream",
     "text": [
      "Train Loss: 0.1758 | Train Acc: 0.9586\n",
      "Val Loss: 0.2323 | Val Acc: 0.9302\n",
      "\n",
      "Epoch 27/50\n",
      "--------------------------------------------------\n"
     ]
    },
    {
     "name": "stderr",
     "output_type": "stream",
     "text": [
      "Training: 100%|██████████| 85/85 [00:05<00:00, 14.38it/s]\n",
      "Validation: 100%|██████████| 22/22 [00:01<00:00, 14.83it/s]\n"
     ]
    },
    {
     "name": "stdout",
     "output_type": "stream",
     "text": [
      "Train Loss: 0.1650 | Train Acc: 0.9734\n",
      "Val Loss: 0.2318 | Val Acc: 0.9302\n",
      "\n",
      "Epoch 28/50\n",
      "--------------------------------------------------\n"
     ]
    },
    {
     "name": "stderr",
     "output_type": "stream",
     "text": [
      "Training: 100%|██████████| 85/85 [00:05<00:00, 14.28it/s]\n",
      "Validation: 100%|██████████| 22/22 [00:01<00:00, 14.73it/s]\n"
     ]
    },
    {
     "name": "stdout",
     "output_type": "stream",
     "text": [
      "Train Loss: 0.1752 | Train Acc: 0.9586\n",
      "Val Loss: 0.2324 | Val Acc: 0.9419\n",
      "\n",
      "Epoch 29/50\n",
      "--------------------------------------------------\n"
     ]
    },
    {
     "name": "stderr",
     "output_type": "stream",
     "text": [
      "Training: 100%|██████████| 85/85 [00:05<00:00, 14.83it/s]\n",
      "Validation: 100%|██████████| 22/22 [00:01<00:00, 15.27it/s]\n"
     ]
    },
    {
     "name": "stdout",
     "output_type": "stream",
     "text": [
      "Train Loss: 0.1683 | Train Acc: 0.9615\n",
      "Val Loss: 0.2299 | Val Acc: 0.9186\n",
      "\n",
      "Epoch 30/50\n",
      "--------------------------------------------------\n"
     ]
    },
    {
     "name": "stderr",
     "output_type": "stream",
     "text": [
      "Training: 100%|██████████| 85/85 [00:05<00:00, 14.91it/s]\n",
      "Validation: 100%|██████████| 22/22 [00:01<00:00, 15.34it/s]\n"
     ]
    },
    {
     "name": "stdout",
     "output_type": "stream",
     "text": [
      "Train Loss: 0.1823 | Train Acc: 0.9497\n",
      "Val Loss: 0.2286 | Val Acc: 0.9419\n",
      "\n",
      "Epoch 31/50\n",
      "--------------------------------------------------\n"
     ]
    },
    {
     "name": "stderr",
     "output_type": "stream",
     "text": [
      "Training: 100%|██████████| 85/85 [00:05<00:00, 14.77it/s]\n",
      "Validation: 100%|██████████| 22/22 [00:01<00:00, 14.89it/s]\n"
     ]
    },
    {
     "name": "stdout",
     "output_type": "stream",
     "text": [
      "Train Loss: 0.1579 | Train Acc: 0.9675\n",
      "Val Loss: 0.2260 | Val Acc: 0.9302\n",
      "\n",
      "Epoch 32/50\n",
      "--------------------------------------------------\n"
     ]
    },
    {
     "name": "stderr",
     "output_type": "stream",
     "text": [
      "Training: 100%|██████████| 85/85 [00:05<00:00, 14.48it/s]\n",
      "Validation: 100%|██████████| 22/22 [00:01<00:00, 15.05it/s]\n"
     ]
    },
    {
     "name": "stdout",
     "output_type": "stream",
     "text": [
      "Train Loss: 0.1655 | Train Acc: 0.9467\n",
      "Val Loss: 0.2256 | Val Acc: 0.9419\n",
      "\n",
      "Epoch 33/50\n",
      "--------------------------------------------------\n"
     ]
    },
    {
     "name": "stderr",
     "output_type": "stream",
     "text": [
      "Training: 100%|██████████| 85/85 [00:06<00:00, 13.72it/s]\n",
      "Validation: 100%|██████████| 22/22 [00:01<00:00, 14.49it/s]\n"
     ]
    },
    {
     "name": "stdout",
     "output_type": "stream",
     "text": [
      "Train Loss: 0.1388 | Train Acc: 0.9615\n",
      "Val Loss: 0.2233 | Val Acc: 0.9302\n",
      "\n",
      "Epoch 34/50\n",
      "--------------------------------------------------\n"
     ]
    },
    {
     "name": "stderr",
     "output_type": "stream",
     "text": [
      "Training: 100%|██████████| 85/85 [00:07<00:00, 11.89it/s]\n",
      "Validation: 100%|██████████| 22/22 [00:02<00:00,  9.85it/s]\n"
     ]
    },
    {
     "name": "stdout",
     "output_type": "stream",
     "text": [
      "Train Loss: 0.1525 | Train Acc: 0.9763\n",
      "Val Loss: 0.2222 | Val Acc: 0.9302\n",
      "\n",
      "Epoch 35/50\n",
      "--------------------------------------------------\n"
     ]
    },
    {
     "name": "stderr",
     "output_type": "stream",
     "text": [
      "Training: 100%|██████████| 85/85 [00:07<00:00, 10.63it/s]\n",
      "Validation: 100%|██████████| 22/22 [00:01<00:00, 13.62it/s]\n"
     ]
    },
    {
     "name": "stdout",
     "output_type": "stream",
     "text": [
      "Train Loss: 0.1515 | Train Acc: 0.9556\n",
      "Val Loss: 0.2218 | Val Acc: 0.9302\n",
      "\n",
      "Epoch 36/50\n",
      "--------------------------------------------------\n"
     ]
    },
    {
     "name": "stderr",
     "output_type": "stream",
     "text": [
      "Training: 100%|██████████| 85/85 [00:06<00:00, 13.17it/s]\n",
      "Validation: 100%|██████████| 22/22 [00:01<00:00, 14.05it/s]\n"
     ]
    },
    {
     "name": "stdout",
     "output_type": "stream",
     "text": [
      "Train Loss: 0.1606 | Train Acc: 0.9615\n",
      "Val Loss: 0.2201 | Val Acc: 0.9302\n",
      "\n",
      "Epoch 37/50\n",
      "--------------------------------------------------\n"
     ]
    },
    {
     "name": "stderr",
     "output_type": "stream",
     "text": [
      "Training: 100%|██████████| 85/85 [00:06<00:00, 14.10it/s]\n",
      "Validation: 100%|██████████| 22/22 [00:01<00:00, 13.63it/s]\n"
     ]
    },
    {
     "name": "stdout",
     "output_type": "stream",
     "text": [
      "Train Loss: 0.1434 | Train Acc: 0.9704\n",
      "Val Loss: 0.2190 | Val Acc: 0.9302\n",
      "\n",
      "Epoch 38/50\n",
      "--------------------------------------------------\n"
     ]
    },
    {
     "name": "stderr",
     "output_type": "stream",
     "text": [
      "Training: 100%|██████████| 85/85 [00:06<00:00, 13.80it/s]\n",
      "Validation: 100%|██████████| 22/22 [00:01<00:00, 14.18it/s]\n"
     ]
    },
    {
     "name": "stdout",
     "output_type": "stream",
     "text": [
      "Train Loss: 0.1424 | Train Acc: 0.9704\n",
      "Val Loss: 0.2171 | Val Acc: 0.9302\n",
      "\n",
      "Epoch 39/50\n",
      "--------------------------------------------------\n"
     ]
    },
    {
     "name": "stderr",
     "output_type": "stream",
     "text": [
      "Training: 100%|██████████| 85/85 [00:06<00:00, 12.78it/s]\n",
      "Validation: 100%|██████████| 22/22 [00:01<00:00, 13.93it/s]\n"
     ]
    },
    {
     "name": "stdout",
     "output_type": "stream",
     "text": [
      "Train Loss: 0.1504 | Train Acc: 0.9586\n",
      "Val Loss: 0.2170 | Val Acc: 0.9302\n",
      "\n",
      "Epoch 40/50\n",
      "--------------------------------------------------\n"
     ]
    },
    {
     "name": "stderr",
     "output_type": "stream",
     "text": [
      "Training: 100%|██████████| 85/85 [00:06<00:00, 12.24it/s]\n",
      "Validation: 100%|██████████| 22/22 [00:01<00:00, 12.43it/s]\n"
     ]
    },
    {
     "name": "stdout",
     "output_type": "stream",
     "text": [
      "Train Loss: 0.1461 | Train Acc: 0.9556\n",
      "Val Loss: 0.2149 | Val Acc: 0.9302\n",
      "\n",
      "Epoch 41/50\n",
      "--------------------------------------------------\n"
     ]
    },
    {
     "name": "stderr",
     "output_type": "stream",
     "text": [
      "Training: 100%|██████████| 85/85 [00:06<00:00, 12.93it/s]\n",
      "Validation: 100%|██████████| 22/22 [00:01<00:00, 11.84it/s]\n"
     ]
    },
    {
     "name": "stdout",
     "output_type": "stream",
     "text": [
      "Train Loss: 0.1462 | Train Acc: 0.9645\n",
      "Val Loss: 0.2130 | Val Acc: 0.9302\n",
      "\n",
      "Epoch 42/50\n",
      "--------------------------------------------------\n"
     ]
    },
    {
     "name": "stderr",
     "output_type": "stream",
     "text": [
      "Training: 100%|██████████| 85/85 [00:06<00:00, 13.23it/s]\n",
      "Validation: 100%|██████████| 22/22 [00:01<00:00, 14.62it/s]\n"
     ]
    },
    {
     "name": "stdout",
     "output_type": "stream",
     "text": [
      "Train Loss: 0.1475 | Train Acc: 0.9615\n",
      "Val Loss: 0.2114 | Val Acc: 0.9302\n",
      "\n",
      "Epoch 43/50\n",
      "--------------------------------------------------\n"
     ]
    },
    {
     "name": "stderr",
     "output_type": "stream",
     "text": [
      "Training: 100%|██████████| 85/85 [00:06<00:00, 14.13it/s]\n",
      "Validation: 100%|██████████| 22/22 [00:01<00:00, 13.97it/s]\n"
     ]
    },
    {
     "name": "stdout",
     "output_type": "stream",
     "text": [
      "Train Loss: 0.1524 | Train Acc: 0.9763\n",
      "Val Loss: 0.2115 | Val Acc: 0.9302\n",
      "\n",
      "Epoch 44/50\n",
      "--------------------------------------------------\n"
     ]
    },
    {
     "name": "stderr",
     "output_type": "stream",
     "text": [
      "Training: 100%|██████████| 85/85 [00:06<00:00, 13.23it/s]\n",
      "Validation: 100%|██████████| 22/22 [00:01<00:00, 13.36it/s]\n"
     ]
    },
    {
     "name": "stdout",
     "output_type": "stream",
     "text": [
      "Train Loss: 0.1461 | Train Acc: 0.9675\n",
      "Val Loss: 0.2097 | Val Acc: 0.9302\n",
      "\n",
      "Epoch 45/50\n",
      "--------------------------------------------------\n"
     ]
    },
    {
     "name": "stderr",
     "output_type": "stream",
     "text": [
      "Training: 100%|██████████| 85/85 [00:06<00:00, 12.49it/s]\n",
      "Validation: 100%|██████████| 22/22 [00:01<00:00, 12.16it/s]\n"
     ]
    },
    {
     "name": "stdout",
     "output_type": "stream",
     "text": [
      "Train Loss: 0.1494 | Train Acc: 0.9556\n",
      "Val Loss: 0.2080 | Val Acc: 0.9302\n",
      "\n",
      "Epoch 46/50\n",
      "--------------------------------------------------\n"
     ]
    },
    {
     "name": "stderr",
     "output_type": "stream",
     "text": [
      "Training: 100%|██████████| 85/85 [00:07<00:00, 10.85it/s]\n",
      "Validation: 100%|██████████| 22/22 [00:01<00:00, 11.19it/s]\n"
     ]
    },
    {
     "name": "stdout",
     "output_type": "stream",
     "text": [
      "Train Loss: 0.1323 | Train Acc: 0.9645\n",
      "Val Loss: 0.2086 | Val Acc: 0.9419\n",
      "\n",
      "Epoch 47/50\n",
      "--------------------------------------------------\n"
     ]
    },
    {
     "name": "stderr",
     "output_type": "stream",
     "text": [
      "Training: 100%|██████████| 85/85 [00:09<00:00,  9.25it/s]\n",
      "Validation: 100%|██████████| 22/22 [00:02<00:00,  8.44it/s]\n"
     ]
    },
    {
     "name": "stdout",
     "output_type": "stream",
     "text": [
      "Train Loss: 0.1491 | Train Acc: 0.9556\n",
      "Val Loss: 0.2071 | Val Acc: 0.9302\n",
      "\n",
      "Epoch 48/50\n",
      "--------------------------------------------------\n"
     ]
    },
    {
     "name": "stderr",
     "output_type": "stream",
     "text": [
      "Training: 100%|██████████| 85/85 [00:11<00:00,  7.41it/s]\n",
      "Validation: 100%|██████████| 22/22 [00:03<00:00,  6.43it/s]\n"
     ]
    },
    {
     "name": "stdout",
     "output_type": "stream",
     "text": [
      "Train Loss: 0.1210 | Train Acc: 0.9675\n",
      "Val Loss: 0.2077 | Val Acc: 0.9186\n",
      "\n",
      "Epoch 49/50\n",
      "--------------------------------------------------\n"
     ]
    },
    {
     "name": "stderr",
     "output_type": "stream",
     "text": [
      "Training: 100%|██████████| 85/85 [00:39<00:00,  2.16it/s]\n",
      "Validation: 100%|██████████| 22/22 [00:07<00:00,  2.84it/s]\n"
     ]
    },
    {
     "name": "stdout",
     "output_type": "stream",
     "text": [
      "Train Loss: 0.1404 | Train Acc: 0.9675\n",
      "Val Loss: 0.2057 | Val Acc: 0.9302\n",
      "\n",
      "Epoch 50/50\n",
      "--------------------------------------------------\n"
     ]
    },
    {
     "name": "stderr",
     "output_type": "stream",
     "text": [
      "Training: 100%|██████████| 85/85 [00:21<00:00,  4.02it/s]\n",
      "Validation: 100%|██████████| 22/22 [00:04<00:00,  5.31it/s]\n"
     ]
    },
    {
     "name": "stdout",
     "output_type": "stream",
     "text": [
      "Train Loss: 0.1226 | Train Acc: 0.9615\n",
      "Val Loss: 0.2047 | Val Acc: 0.9302\n",
      "\n",
      "==================================================\n",
      "Training Complete!\n",
      "Best Validation Accuracy: 0.9419\n"
     ]
    },
    {
     "data": {
      "image/png": "[encoded data removed]",
      "text/plain": [
       "<Figure size 1500x500 with 2 Axes>"
      ]
     },
     "metadata": {},
     "output_type": "display_data"
    },
    {
     "name": "stdout",
     "output_type": "stream",
     "text": [
      "\n",
      "==================================================\n",
      "FINAL STATISTICS\n",
      "==================================================\n",
      "Final Train Loss: 0.1226\n",
      "Final Train Accuracy: 0.9615\n",
      "Final Val Loss: 0.2047\n",
      "Final Val Accuracy: 0.9302\n",
      "Best Val Accuracy: 0.9419\n"
     ]
    }
   ],
   "source": [
    "import torch\n",
    "import torch.nn as nn\n",
    "from tqdm import tqdm\n",
    "import matplotlib.pyplot as plt\n",
    "\n",
    "# Training history\n",
    "history = {\n",
    "    'train_loss': [],\n",
    "    'train_acc': [],\n",
    "    'val_loss': [],\n",
    "    'val_acc': []\n",
    "}\n",
    "\n",
    "epochs = 50\n",
    "best_val_acc = 0.0\n",
    "\n",
    "for epoch in range(epochs):\n",
    "    print(f'\\nEpoch {epoch+1}/{epochs}')\n",
    "    print('-' * 50)\n",
    "    \n",
    "    # ========== TRAINING PHASE ==========\n",
    "    model.train()\n",
    "    train_loss = 0.0\n",
    "    train_correct = 0\n",
    "    train_total = 0\n",
    "    \n",
    "    for batch in tqdm(trainloader, desc='Training'):\n",
    "        images, labels = batch\n",
    "        labels = labels.float().unsqueeze(1).to(device)  # Shape: [batch_size, 1]\n",
    "        images = images.to(device)\n",
    "        \n",
    "        # Forward pass\n",
    "        preds = model(images)\n",
    "        loss = loss_fn(preds, labels)\n",
    "        \n",
    "        # Backward pass\n",
    "        optimizer.zero_grad()\n",
    "        loss.backward()\n",
    "        optimizer.step()\n",
    "        \n",
    "        # Track metrics\n",
    "        train_loss += loss.item() * images.size(0)\n",
    "        predicted = (torch.sigmoid(preds) > 0.5).float()\n",
    "        train_correct += (predicted == labels).sum().item()\n",
    "        train_total += labels.size(0)\n",
    "    \n",
    "    # Calculate training metrics\n",
    "    epoch_train_loss = train_loss / train_total\n",
    "    epoch_train_acc = train_correct / train_total\n",
    "    \n",
    "    # ========== VALIDATION PHASE ==========\n",
    "    model.eval()\n",
    "    val_loss = 0.0\n",
    "    val_correct = 0\n",
    "    val_total = 0\n",
    "    \n",
    "    with torch.no_grad():\n",
    "        for batch in tqdm(valloader, desc='Validation'):\n",
    "            images, labels = batch\n",
    "            labels = labels.float().unsqueeze(1).to(device)\n",
    "            images = images.to(device)\n",
    "            \n",
    "            # Forward pass\n",
    "            preds = model(images)\n",
    "            loss = loss_fn(preds, labels)\n",
    "            \n",
    "            # Track metrics\n",
    "            val_loss += loss.item() * images.size(0)\n",
    "            predicted = (torch.sigmoid(preds) > 0.5).float()\n",
    "            val_correct += (predicted == labels).sum().item()\n",
    "            val_total += labels.size(0)\n",
    "    \n",
    "    # Calculate validation metrics\n",
    "    epoch_val_loss = val_loss / val_total\n",
    "    epoch_val_acc = val_correct / val_total\n",
    "    \n",
    "    # Save metrics\n",
    "    history['train_loss'].append(epoch_train_loss)\n",
    "    history['train_acc'].append(epoch_train_acc)\n",
    "    history['val_loss'].append(epoch_val_loss)\n",
    "    history['val_acc'].append(epoch_val_acc)\n",
    "    \n",
    "    # Print epoch summary\n",
    "    print(f'Train Loss: {epoch_train_loss:.4f} | Train Acc: {epoch_train_acc:.4f}')\n",
    "    print(f'Val Loss: {epoch_val_loss:.4f} | Val Acc: {epoch_val_acc:.4f}')\n",
    "    \n",
    "    # Save best model\n",
    "    if epoch_val_acc > best_val_acc:\n",
    "        best_val_acc = epoch_val_acc\n",
    "        torch.save(model.state_dict(), 'best_model.pth')\n",
    "        print(f'✓ Best model saved! Val Acc: {best_val_acc:.4f}')\n",
    "\n",
    "print('\\n' + '='*50)\n",
    "print('Training Complete!')\n",
    "print(f'Best Validation Accuracy: {best_val_acc:.4f}')\n",
    "\n",
    "# ========== VISUALIZATION ==========\n",
    "fig, axes = plt.subplots(1, 2, figsize=(15, 5))\n",
    "\n",
    "# Plot Loss\n",
    "axes[0].plot(range(1, epochs+1), history['train_loss'], 'b-o', label='Train Loss', linewidth=2)\n",
    "axes[0].plot(range(1, epochs+1), history['val_loss'], 'r-o', label='Val Loss', linewidth=2)\n",
    "axes[0].set_xlabel('Epoch', fontsize=12)\n",
    "axes[0].set_ylabel('Loss', fontsize=12)\n",
    "axes[0].set_title('Training and Validation Loss', fontsize=14, fontweight='bold')\n",
    "axes[0].legend(fontsize=11)\n",
    "axes[0].grid(True, alpha=0.3)\n",
    "\n",
    "# Plot Accuracy\n",
    "axes[1].plot(range(1, epochs+1), history['train_acc'], 'b-o', label='Train Accuracy', linewidth=2)\n",
    "axes[1].plot(range(1, epochs+1), history['val_acc'], 'r-o', label='Val Accuracy', linewidth=2)\n",
    "axes[1].set_xlabel('Epoch', fontsize=12)\n",
    "axes[1].set_ylabel('Accuracy', fontsize=12)\n",
    "axes[1].set_title('Training and Validation Accuracy', fontsize=14, fontweight='bold')\n",
    "axes[1].legend(fontsize=11)\n",
    "axes[1].grid(True, alpha=0.3)\n",
    "axes[1].set_ylim([0, 1])\n",
    "\n",
    "plt.tight_layout()\n",
    "plt.savefig('training_history.png', dpi=300, bbox_inches='tight')\n",
    "plt.show()\n",
    "\n",
    "# Print final statistics\n",
    "print('\\n' + '='*50)\n",
    "print('FINAL STATISTICS')\n",
    "print('='*50)\n",
    "print(f'Final Train Loss: {history[\"train_loss\"][-1]:.4f}')\n",
    "print(f'Final Train Accuracy: {history[\"train_acc\"][-1]:.4f}')\n",
    "print(f'Final Val Loss: {history[\"val_loss\"][-1]:.4f}')\n",
    "print(f'Final Val Accuracy: {history[\"val_acc\"][-1]:.4f}')\n",
    "print(f'Best Val Accuracy: {best_val_acc:.4f}')"
   ]
  },
  {
   "cell_type": "code",
   "execution_count": null,
   "id": "5af1c9d4",
   "metadata": {},
   "outputs": [
    {
     "ename": "",
     "evalue": "",
     "output_type": "error",
     "traceback": [
      "\u001b[1;31mThe Kernel crashed while executing code in the current cell or a previous cell. \n",
      "\u001b[1;31mPlease review the code in the cell(s) to identify a possible cause of the failure. \n",
      "\u001b[1;31mClick <a href='https://aka.ms/vscodeJupyterKernelCrash'>here</a> for more info. \n",
      "\u001b[1;31mView Jupyter <a href='command:jupyter.viewOutput'>log</a> for further details."
     ]
    }
   ],
   "source": [
    "from torchvision import models\n",
    "modelres = models.resnet50(weights=models.ResNet50_Weights.IMAGENET1K_V1)\n",
    "\n",
    "for param in modelres.parameters():\n",
    "    param.requires_grad = False\n",
    "\n",
    "modelres.fc = nn.Linear(2048, 1)\n",
    "modelres.to(device)\n",
    "\n",
    "# Important: Only optimize the new fc layer parameters\n",
    "loss_fn = nn.BCEWithLogitsLoss()\n",
    "optimizer = torch.optim.Adam(modelres.fc.parameters(), lr=0.001)"
   ]
  },
  {
   "cell_type": "code",
   "execution_count": null,
   "id": "380f7858",
   "metadata": {},
   "outputs": [
    {
     "name": "stdout",
     "output_type": "stream",
     "text": [
      "\n",
      "Epoch 1/50\n",
      "--------------------------------------------------\n"
     ]
    },
    {
     "name": "stderr",
     "output_type": "stream",
     "text": [
      "Training: 100%|██████████| 85/85 [00:05<00:00, 15.40it/s]\n",
      "Validation: 100%|██████████| 22/22 [00:01<00:00, 18.92it/s]\n"
     ]
    },
    {
     "name": "stdout",
     "output_type": "stream",
     "text": [
      "Train Loss: 0.5953 | Train Acc: 0.6538\n",
      "Val Loss: 0.3665 | Val Acc: 0.8605\n",
      "✓ Best model saved! Val Acc: 0.8605\n",
      "\n",
      "Epoch 2/50\n",
      "--------------------------------------------------\n"
     ]
    },
    {
     "name": "stderr",
     "output_type": "stream",
     "text": [
      "Training: 100%|██████████| 85/85 [00:05<00:00, 16.60it/s]\n",
      "Validation: 100%|██████████| 22/22 [00:01<00:00, 19.10it/s]\n"
     ]
    },
    {
     "name": "stdout",
     "output_type": "stream",
     "text": [
      "Train Loss: 0.3803 | Train Acc: 0.8609\n",
      "Val Loss: 0.3142 | Val Acc: 0.8488\n",
      "\n",
      "Epoch 3/50\n",
      "--------------------------------------------------\n"
     ]
    },
    {
     "name": "stderr",
     "output_type": "stream",
     "text": [
      "Training: 100%|██████████| 85/85 [00:04<00:00, 17.31it/s]\n",
      "Validation: 100%|██████████| 22/22 [00:01<00:00, 18.74it/s]\n"
     ]
    },
    {
     "name": "stdout",
     "output_type": "stream",
     "text": [
      "Train Loss: 0.4028 | Train Acc: 0.8077\n",
      "Val Loss: 0.5137 | Val Acc: 0.7558\n",
      "\n",
      "Epoch 4/50\n",
      "--------------------------------------------------\n"
     ]
    },
    {
     "name": "stderr",
     "output_type": "stream",
     "text": [
      "Training: 100%|██████████| 85/85 [00:04<00:00, 17.37it/s]\n",
      "Validation: 100%|██████████| 22/22 [00:01<00:00, 19.18it/s]\n"
     ]
    },
    {
     "name": "stdout",
     "output_type": "stream",
     "text": [
      "Train Loss: 0.3581 | Train Acc: 0.8343\n",
      "Val Loss: 0.2338 | Val Acc: 0.9186\n",
      "✓ Best model saved! Val Acc: 0.9186\n",
      "\n",
      "Epoch 5/50\n",
      "--------------------------------------------------\n"
     ]
    },
    {
     "name": "stderr",
     "output_type": "stream",
     "text": [
      "Training: 100%|██████████| 85/85 [00:04<00:00, 17.67it/s]\n",
      "Validation: 100%|██████████| 22/22 [00:01<00:00, 17.55it/s]\n"
     ]
    },
    {
     "name": "stdout",
     "output_type": "stream",
     "text": [
      "Train Loss: 0.2579 | Train Acc: 0.8905\n",
      "Val Loss: 0.1953 | Val Acc: 0.9186\n",
      "\n",
      "Epoch 6/50\n",
      "--------------------------------------------------\n"
     ]
    },
    {
     "name": "stderr",
     "output_type": "stream",
     "text": [
      "Training: 100%|██████████| 85/85 [00:04<00:00, 17.18it/s]\n",
      "Validation: 100%|██████████| 22/22 [00:01<00:00, 19.46it/s]\n"
     ]
    },
    {
     "name": "stdout",
     "output_type": "stream",
     "text": [
      "Train Loss: 0.3623 | Train Acc: 0.8373\n",
      "Val Loss: 0.2363 | Val Acc: 0.8605\n",
      "\n",
      "Epoch 7/50\n",
      "--------------------------------------------------\n"
     ]
    },
    {
     "name": "stderr",
     "output_type": "stream",
     "text": [
      "Training: 100%|██████████| 85/85 [00:04<00:00, 17.44it/s]\n",
      "Validation: 100%|██████████| 22/22 [00:01<00:00, 19.62it/s]\n"
     ]
    },
    {
     "name": "stdout",
     "output_type": "stream",
     "text": [
      "Train Loss: 0.3333 | Train Acc: 0.8462\n",
      "Val Loss: 0.2636 | Val Acc: 0.8721\n",
      "\n",
      "Epoch 8/50\n",
      "--------------------------------------------------\n"
     ]
    },
    {
     "name": "stderr",
     "output_type": "stream",
     "text": [
      "Training: 100%|██████████| 85/85 [00:04<00:00, 17.51it/s]\n",
      "Validation: 100%|██████████| 22/22 [00:01<00:00, 19.69it/s]\n"
     ]
    },
    {
     "name": "stdout",
     "output_type": "stream",
     "text": [
      "Train Loss: 0.2306 | Train Acc: 0.9083\n",
      "Val Loss: 0.2301 | Val Acc: 0.8953\n",
      "\n",
      "Epoch 9/50\n",
      "--------------------------------------------------\n"
     ]
    },
    {
     "name": "stderr",
     "output_type": "stream",
     "text": [
      "Training: 100%|██████████| 85/85 [00:04<00:00, 17.48it/s]\n",
      "Validation: 100%|██████████| 22/22 [00:01<00:00, 19.70it/s]\n"
     ]
    },
    {
     "name": "stdout",
     "output_type": "stream",
     "text": [
      "Train Loss: 0.2373 | Train Acc: 0.8994\n",
      "Val Loss: 0.1713 | Val Acc: 0.9302\n",
      "✓ Best model saved! Val Acc: 0.9302\n",
      "\n",
      "Epoch 10/50\n",
      "--------------------------------------------------\n"
     ]
    },
    {
     "name": "stderr",
     "output_type": "stream",
     "text": [
      "Training: 100%|██████████| 85/85 [00:04<00:00, 17.68it/s]\n",
      "Validation: 100%|██████████| 22/22 [00:01<00:00, 19.38it/s]\n"
     ]
    },
    {
     "name": "stdout",
     "output_type": "stream",
     "text": [
      "Train Loss: 0.3291 | Train Acc: 0.8521\n",
      "Val Loss: 0.2072 | Val Acc: 0.8953\n",
      "\n",
      "Epoch 11/50\n",
      "--------------------------------------------------\n"
     ]
    },
    {
     "name": "stderr",
     "output_type": "stream",
     "text": [
      "Training: 100%|██████████| 85/85 [00:04<00:00, 17.58it/s]\n",
      "Validation: 100%|██████████| 22/22 [00:01<00:00, 19.47it/s]\n"
     ]
    },
    {
     "name": "stdout",
     "output_type": "stream",
     "text": [
      "Train Loss: 0.2420 | Train Acc: 0.8964\n",
      "Val Loss: 0.1733 | Val Acc: 0.9419\n",
      "✓ Best model saved! Val Acc: 0.9419\n",
      "\n",
      "Epoch 12/50\n",
      "--------------------------------------------------\n"
     ]
    },
    {
     "name": "stderr",
     "output_type": "stream",
     "text": [
      "Training: 100%|██████████| 85/85 [00:04<00:00, 17.05it/s]\n",
      "Validation: 100%|██████████| 22/22 [00:01<00:00, 17.17it/s]\n"
     ]
    },
    {
     "name": "stdout",
     "output_type": "stream",
     "text": [
      "Train Loss: 0.2450 | Train Acc: 0.9024\n",
      "Val Loss: 0.2677 | Val Acc: 0.8721\n",
      "\n",
      "Epoch 13/50\n",
      "--------------------------------------------------\n"
     ]
    },
    {
     "name": "stderr",
     "output_type": "stream",
     "text": [
      "Training: 100%|██████████| 85/85 [00:04<00:00, 17.42it/s]\n",
      "Validation: 100%|██████████| 22/22 [00:01<00:00, 19.58it/s]\n"
     ]
    },
    {
     "name": "stdout",
     "output_type": "stream",
     "text": [
      "Train Loss: 0.3165 | Train Acc: 0.8669\n",
      "Val Loss: 0.1891 | Val Acc: 0.9186\n",
      "\n",
      "Epoch 14/50\n",
      "--------------------------------------------------\n"
     ]
    },
    {
     "name": "stderr",
     "output_type": "stream",
     "text": [
      "Training: 100%|██████████| 85/85 [00:04<00:00, 17.77it/s]\n",
      "Validation: 100%|██████████| 22/22 [00:01<00:00, 19.57it/s]\n"
     ]
    },
    {
     "name": "stdout",
     "output_type": "stream",
     "text": [
      "Train Loss: 0.2757 | Train Acc: 0.9053\n",
      "Val Loss: 0.1846 | Val Acc: 0.9070\n",
      "\n",
      "Epoch 15/50\n",
      "--------------------------------------------------\n"
     ]
    },
    {
     "name": "stderr",
     "output_type": "stream",
     "text": [
      "Training: 100%|██████████| 85/85 [00:04<00:00, 17.35it/s]\n",
      "Validation: 100%|██████████| 22/22 [00:01<00:00, 18.03it/s]\n"
     ]
    },
    {
     "name": "stdout",
     "output_type": "stream",
     "text": [
      "Train Loss: 0.2819 | Train Acc: 0.8876\n",
      "Val Loss: 0.1546 | Val Acc: 0.9419\n",
      "\n",
      "Epoch 16/50\n",
      "--------------------------------------------------\n"
     ]
    },
    {
     "name": "stderr",
     "output_type": "stream",
     "text": [
      "Training: 100%|██████████| 85/85 [00:04<00:00, 17.62it/s]\n",
      "Validation: 100%|██████████| 22/22 [00:01<00:00, 19.70it/s]\n"
     ]
    },
    {
     "name": "stdout",
     "output_type": "stream",
     "text": [
      "Train Loss: 0.2651 | Train Acc: 0.8846\n",
      "Val Loss: 0.1474 | Val Acc: 0.9419\n",
      "\n",
      "Epoch 17/50\n",
      "--------------------------------------------------\n"
     ]
    },
    {
     "name": "stderr",
     "output_type": "stream",
     "text": [
      "Training: 100%|██████████| 85/85 [00:04<00:00, 17.92it/s]\n",
      "Validation: 100%|██████████| 22/22 [00:01<00:00, 19.57it/s]\n"
     ]
    },
    {
     "name": "stdout",
     "output_type": "stream",
     "text": [
      "Train Loss: 0.2647 | Train Acc: 0.8876\n",
      "Val Loss: 0.2025 | Val Acc: 0.8837\n",
      "\n",
      "Epoch 18/50\n",
      "--------------------------------------------------\n"
     ]
    },
    {
     "name": "stderr",
     "output_type": "stream",
     "text": [
      "Training: 100%|██████████| 85/85 [00:04<00:00, 17.24it/s]\n",
      "Validation: 100%|██████████| 22/22 [00:01<00:00, 19.62it/s]\n"
     ]
    },
    {
     "name": "stdout",
     "output_type": "stream",
     "text": [
      "Train Loss: 0.2141 | Train Acc: 0.9172\n",
      "Val Loss: 0.1806 | Val Acc: 0.9186\n",
      "\n",
      "Epoch 19/50\n",
      "--------------------------------------------------\n"
     ]
    },
    {
     "name": "stderr",
     "output_type": "stream",
     "text": [
      "Training: 100%|██████████| 85/85 [00:04<00:00, 17.74it/s]\n",
      "Validation: 100%|██████████| 22/22 [00:01<00:00, 19.64it/s]\n"
     ]
    },
    {
     "name": "stdout",
     "output_type": "stream",
     "text": [
      "Train Loss: 0.1925 | Train Acc: 0.9231\n",
      "Val Loss: 0.2295 | Val Acc: 0.8953\n",
      "\n",
      "Epoch 20/50\n",
      "--------------------------------------------------\n"
     ]
    },
    {
     "name": "stderr",
     "output_type": "stream",
     "text": [
      "Training: 100%|██████████| 85/85 [00:04<00:00, 17.45it/s]\n",
      "Validation: 100%|██████████| 22/22 [00:01<00:00, 19.31it/s]\n"
     ]
    },
    {
     "name": "stdout",
     "output_type": "stream",
     "text": [
      "Train Loss: 0.2348 | Train Acc: 0.8935\n",
      "Val Loss: 0.1766 | Val Acc: 0.9070\n",
      "\n",
      "Epoch 21/50\n",
      "--------------------------------------------------\n"
     ]
    },
    {
     "name": "stderr",
     "output_type": "stream",
     "text": [
      "Training: 100%|██████████| 85/85 [00:04<00:00, 17.57it/s]\n",
      "Validation: 100%|██████████| 22/22 [00:01<00:00, 16.87it/s]\n"
     ]
    },
    {
     "name": "stdout",
     "output_type": "stream",
     "text": [
      "Train Loss: 0.2153 | Train Acc: 0.9053\n",
      "Val Loss: 0.2103 | Val Acc: 0.8953\n",
      "\n",
      "Epoch 22/50\n",
      "--------------------------------------------------\n"
     ]
    },
    {
     "name": "stderr",
     "output_type": "stream",
     "text": [
      "Training: 100%|██████████| 85/85 [00:04<00:00, 17.44it/s]\n",
      "Validation: 100%|██████████| 22/22 [00:01<00:00, 19.00it/s]\n"
     ]
    },
    {
     "name": "stdout",
     "output_type": "stream",
     "text": [
      "Train Loss: 0.3000 | Train Acc: 0.8698\n",
      "Val Loss: 0.1716 | Val Acc: 0.9186\n",
      "\n",
      "Epoch 23/50\n",
      "--------------------------------------------------\n"
     ]
    },
    {
     "name": "stderr",
     "output_type": "stream",
     "text": [
      "Training: 100%|██████████| 85/85 [00:04<00:00, 17.76it/s]\n",
      "Validation: 100%|██████████| 22/22 [00:01<00:00, 19.12it/s]\n"
     ]
    },
    {
     "name": "stdout",
     "output_type": "stream",
     "text": [
      "Train Loss: 0.2247 | Train Acc: 0.9024\n",
      "Val Loss: 0.1739 | Val Acc: 0.9186\n",
      "\n",
      "Epoch 24/50\n",
      "--------------------------------------------------\n"
     ]
    },
    {
     "name": "stderr",
     "output_type": "stream",
     "text": [
      "Training: 100%|██████████| 85/85 [00:04<00:00, 17.08it/s]\n",
      "Validation: 100%|██████████| 22/22 [00:01<00:00, 18.95it/s]\n"
     ]
    },
    {
     "name": "stdout",
     "output_type": "stream",
     "text": [
      "Train Loss: 0.1824 | Train Acc: 0.9142\n",
      "Val Loss: 0.1529 | Val Acc: 0.9302\n",
      "\n",
      "Epoch 25/50\n",
      "--------------------------------------------------\n"
     ]
    },
    {
     "name": "stderr",
     "output_type": "stream",
     "text": [
      "Training: 100%|██████████| 85/85 [00:04<00:00, 17.34it/s]\n",
      "Validation: 100%|██████████| 22/22 [00:01<00:00, 18.78it/s]\n"
     ]
    },
    {
     "name": "stdout",
     "output_type": "stream",
     "text": [
      "Train Loss: 0.2957 | Train Acc: 0.8728\n",
      "Val Loss: 0.2542 | Val Acc: 0.8721\n",
      "\n",
      "Epoch 26/50\n",
      "--------------------------------------------------\n"
     ]
    },
    {
     "name": "stderr",
     "output_type": "stream",
     "text": [
      "Training: 100%|██████████| 85/85 [00:04<00:00, 17.54it/s]\n",
      "Validation: 100%|██████████| 22/22 [00:01<00:00, 18.95it/s]\n"
     ]
    },
    {
     "name": "stdout",
     "output_type": "stream",
     "text": [
      "Train Loss: 0.2111 | Train Acc: 0.9112\n",
      "Val Loss: 0.2113 | Val Acc: 0.8721\n",
      "\n",
      "Epoch 27/50\n",
      "--------------------------------------------------\n"
     ]
    },
    {
     "name": "stderr",
     "output_type": "stream",
     "text": [
      "Training: 100%|██████████| 85/85 [00:04<00:00, 17.53it/s]\n",
      "Validation: 100%|██████████| 22/22 [00:01<00:00, 19.30it/s]\n"
     ]
    },
    {
     "name": "stdout",
     "output_type": "stream",
     "text": [
      "Train Loss: 0.2410 | Train Acc: 0.8964\n",
      "Val Loss: 0.1262 | Val Acc: 0.9419\n",
      "\n",
      "Epoch 28/50\n",
      "--------------------------------------------------\n"
     ]
    },
    {
     "name": "stderr",
     "output_type": "stream",
     "text": [
      "Training: 100%|██████████| 85/85 [00:05<00:00, 16.55it/s]\n",
      "Validation: 100%|██████████| 22/22 [00:01<00:00, 18.83it/s]\n"
     ]
    },
    {
     "name": "stdout",
     "output_type": "stream",
     "text": [
      "Train Loss: 0.2476 | Train Acc: 0.8757\n",
      "Val Loss: 0.1838 | Val Acc: 0.9070\n",
      "\n",
      "Epoch 29/50\n",
      "--------------------------------------------------\n"
     ]
    },
    {
     "name": "stderr",
     "output_type": "stream",
     "text": [
      "Training: 100%|██████████| 85/85 [00:04<00:00, 17.54it/s]\n",
      "Validation: 100%|██████████| 22/22 [00:01<00:00, 19.34it/s]\n"
     ]
    },
    {
     "name": "stdout",
     "output_type": "stream",
     "text": [
      "Train Loss: 0.1551 | Train Acc: 0.9408\n",
      "Val Loss: 0.1603 | Val Acc: 0.9419\n",
      "\n",
      "Epoch 30/50\n",
      "--------------------------------------------------\n"
     ]
    },
    {
     "name": "stderr",
     "output_type": "stream",
     "text": [
      "Training: 100%|██████████| 85/85 [00:04<00:00, 17.70it/s]\n",
      "Validation: 100%|██████████| 22/22 [00:01<00:00, 19.15it/s]\n"
     ]
    },
    {
     "name": "stdout",
     "output_type": "stream",
     "text": [
      "Train Loss: 0.2455 | Train Acc: 0.8964\n",
      "Val Loss: 0.1294 | Val Acc: 0.9419\n",
      "\n",
      "Epoch 31/50\n",
      "--------------------------------------------------\n"
     ]
    },
    {
     "name": "stderr",
     "output_type": "stream",
     "text": [
      "Training: 100%|██████████| 85/85 [00:04<00:00, 17.35it/s]\n",
      "Validation: 100%|██████████| 22/22 [00:01<00:00, 19.47it/s]\n"
     ]
    },
    {
     "name": "stdout",
     "output_type": "stream",
     "text": [
      "Train Loss: 0.2104 | Train Acc: 0.9112\n",
      "Val Loss: 0.1872 | Val Acc: 0.8953\n",
      "\n",
      "Epoch 32/50\n",
      "--------------------------------------------------\n"
     ]
    },
    {
     "name": "stderr",
     "output_type": "stream",
     "text": [
      "Training: 100%|██████████| 85/85 [00:04<00:00, 17.37it/s]\n",
      "Validation: 100%|██████████| 22/22 [00:01<00:00, 19.49it/s]\n"
     ]
    },
    {
     "name": "stdout",
     "output_type": "stream",
     "text": [
      "Train Loss: 0.2103 | Train Acc: 0.9142\n",
      "Val Loss: 0.1830 | Val Acc: 0.9070\n",
      "\n",
      "Epoch 33/50\n",
      "--------------------------------------------------\n"
     ]
    },
    {
     "name": "stderr",
     "output_type": "stream",
     "text": [
      "Training: 100%|██████████| 85/85 [00:05<00:00, 16.94it/s]\n",
      "Validation: 100%|██████████| 22/22 [00:01<00:00, 19.20it/s]\n"
     ]
    },
    {
     "name": "stdout",
     "output_type": "stream",
     "text": [
      "Train Loss: 0.2928 | Train Acc: 0.8757\n",
      "Val Loss: 0.3048 | Val Acc: 0.8721\n",
      "\n",
      "Epoch 34/50\n",
      "--------------------------------------------------\n"
     ]
    },
    {
     "name": "stderr",
     "output_type": "stream",
     "text": [
      "Training: 100%|██████████| 85/85 [00:04<00:00, 17.36it/s]\n",
      "Validation: 100%|██████████| 22/22 [00:01<00:00, 19.58it/s]\n"
     ]
    },
    {
     "name": "stdout",
     "output_type": "stream",
     "text": [
      "Train Loss: 0.2898 | Train Acc: 0.8876\n",
      "Val Loss: 0.1248 | Val Acc: 0.9535\n",
      "✓ Best model saved! Val Acc: 0.9535\n",
      "\n",
      "Epoch 35/50\n",
      "--------------------------------------------------\n"
     ]
    },
    {
     "name": "stderr",
     "output_type": "stream",
     "text": [
      "Training: 100%|██████████| 85/85 [00:04<00:00, 17.61it/s]\n",
      "Validation: 100%|██████████| 22/22 [00:01<00:00, 19.39it/s]\n"
     ]
    },
    {
     "name": "stdout",
     "output_type": "stream",
     "text": [
      "Train Loss: 0.2234 | Train Acc: 0.9083\n",
      "Val Loss: 0.2013 | Val Acc: 0.8837\n",
      "\n",
      "Epoch 36/50\n",
      "--------------------------------------------------\n"
     ]
    },
    {
     "name": "stderr",
     "output_type": "stream",
     "text": [
      "Training: 100%|██████████| 85/85 [00:04<00:00, 17.04it/s]\n",
      "Validation: 100%|██████████| 22/22 [00:01<00:00, 19.45it/s]\n"
     ]
    },
    {
     "name": "stdout",
     "output_type": "stream",
     "text": [
      "Train Loss: 0.2197 | Train Acc: 0.9024\n",
      "Val Loss: 0.2139 | Val Acc: 0.8721\n",
      "\n",
      "Epoch 37/50\n",
      "--------------------------------------------------\n"
     ]
    },
    {
     "name": "stderr",
     "output_type": "stream",
     "text": [
      "Training: 100%|██████████| 85/85 [00:04<00:00, 17.34it/s]\n",
      "Validation: 100%|██████████| 22/22 [00:01<00:00, 19.34it/s]\n"
     ]
    },
    {
     "name": "stdout",
     "output_type": "stream",
     "text": [
      "Train Loss: 0.2343 | Train Acc: 0.8846\n",
      "Val Loss: 0.1654 | Val Acc: 0.9186\n",
      "\n",
      "Epoch 38/50\n",
      "--------------------------------------------------\n"
     ]
    },
    {
     "name": "stderr",
     "output_type": "stream",
     "text": [
      "Training: 100%|██████████| 85/85 [00:04<00:00, 17.63it/s]\n",
      "Validation: 100%|██████████| 22/22 [00:01<00:00, 19.25it/s]\n"
     ]
    },
    {
     "name": "stdout",
     "output_type": "stream",
     "text": [
      "Train Loss: 0.2963 | Train Acc: 0.8580\n",
      "Val Loss: 0.2168 | Val Acc: 0.9186\n",
      "\n",
      "Epoch 39/50\n",
      "--------------------------------------------------\n"
     ]
    },
    {
     "name": "stderr",
     "output_type": "stream",
     "text": [
      "Training: 100%|██████████| 85/85 [00:04<00:00, 17.62it/s]\n",
      "Validation: 100%|██████████| 22/22 [00:01<00:00, 19.26it/s]\n"
     ]
    },
    {
     "name": "stdout",
     "output_type": "stream",
     "text": [
      "Train Loss: 0.2047 | Train Acc: 0.9201\n",
      "Val Loss: 0.1473 | Val Acc: 0.9302\n",
      "\n",
      "Epoch 40/50\n",
      "--------------------------------------------------\n"
     ]
    },
    {
     "name": "stderr",
     "output_type": "stream",
     "text": [
      "Training: 100%|██████████| 85/85 [00:04<00:00, 17.50it/s]\n",
      "Validation: 100%|██████████| 22/22 [00:01<00:00, 19.39it/s]\n"
     ]
    },
    {
     "name": "stdout",
     "output_type": "stream",
     "text": [
      "Train Loss: 0.2141 | Train Acc: 0.8935\n",
      "Val Loss: 0.1692 | Val Acc: 0.9070\n",
      "\n",
      "Epoch 41/50\n",
      "--------------------------------------------------\n"
     ]
    },
    {
     "name": "stderr",
     "output_type": "stream",
     "text": [
      "Training: 100%|██████████| 85/85 [00:04<00:00, 17.45it/s]\n",
      "Validation: 100%|██████████| 22/22 [00:01<00:00, 16.15it/s]\n"
     ]
    },
    {
     "name": "stdout",
     "output_type": "stream",
     "text": [
      "Train Loss: 0.2339 | Train Acc: 0.9024\n",
      "Val Loss: 0.1447 | Val Acc: 0.9302\n",
      "\n",
      "Epoch 42/50\n",
      "--------------------------------------------------\n"
     ]
    },
    {
     "name": "stderr",
     "output_type": "stream",
     "text": [
      "Training: 100%|██████████| 85/85 [00:04<00:00, 17.23it/s]\n",
      "Validation: 100%|██████████| 22/22 [00:01<00:00, 19.32it/s]\n"
     ]
    },
    {
     "name": "stdout",
     "output_type": "stream",
     "text": [
      "Train Loss: 0.1309 | Train Acc: 0.9527\n",
      "Val Loss: 0.1526 | Val Acc: 0.9302\n",
      "\n",
      "Epoch 43/50\n",
      "--------------------------------------------------\n"
     ]
    },
    {
     "name": "stderr",
     "output_type": "stream",
     "text": [
      "Training: 100%|██████████| 85/85 [00:05<00:00, 16.95it/s]\n",
      "Validation: 100%|██████████| 22/22 [00:01<00:00, 17.75it/s]\n"
     ]
    },
    {
     "name": "stdout",
     "output_type": "stream",
     "text": [
      "Train Loss: 0.2106 | Train Acc: 0.9290\n",
      "Val Loss: 0.2087 | Val Acc: 0.8953\n",
      "\n",
      "Epoch 44/50\n",
      "--------------------------------------------------\n"
     ]
    },
    {
     "name": "stderr",
     "output_type": "stream",
     "text": [
      "Training: 100%|██████████| 85/85 [00:05<00:00, 16.37it/s]\n",
      "Validation: 100%|██████████| 22/22 [00:01<00:00, 18.21it/s]\n"
     ]
    },
    {
     "name": "stdout",
     "output_type": "stream",
     "text": [
      "Train Loss: 0.1498 | Train Acc: 0.9379\n",
      "Val Loss: 0.2154 | Val Acc: 0.8953\n",
      "\n",
      "Epoch 45/50\n",
      "--------------------------------------------------\n"
     ]
    },
    {
     "name": "stderr",
     "output_type": "stream",
     "text": [
      "Training: 100%|██████████| 85/85 [00:05<00:00, 16.52it/s]\n",
      "Validation: 100%|██████████| 22/22 [00:01<00:00, 17.46it/s]\n"
     ]
    },
    {
     "name": "stdout",
     "output_type": "stream",
     "text": [
      "Train Loss: 0.1580 | Train Acc: 0.9497\n",
      "Val Loss: 0.2122 | Val Acc: 0.8953\n",
      "\n",
      "Epoch 46/50\n",
      "--------------------------------------------------\n"
     ]
    },
    {
     "name": "stderr",
     "output_type": "stream",
     "text": [
      "Training: 100%|██████████| 85/85 [00:05<00:00, 15.39it/s]\n",
      "Validation: 100%|██████████| 22/22 [00:01<00:00, 13.54it/s]\n"
     ]
    },
    {
     "name": "stdout",
     "output_type": "stream",
     "text": [
      "Train Loss: 0.2183 | Train Acc: 0.9053\n",
      "Val Loss: 0.1767 | Val Acc: 0.9070\n",
      "\n",
      "Epoch 47/50\n",
      "--------------------------------------------------\n"
     ]
    },
    {
     "name": "stderr",
     "output_type": "stream",
     "text": [
      "Training: 100%|██████████| 85/85 [00:07<00:00, 11.33it/s]\n",
      "Validation: 100%|██████████| 22/22 [00:01<00:00, 13.24it/s]\n"
     ]
    },
    {
     "name": "stdout",
     "output_type": "stream",
     "text": [
      "Train Loss: 0.2762 | Train Acc: 0.8994\n",
      "Val Loss: 0.1152 | Val Acc: 0.9535\n",
      "\n",
      "Epoch 48/50\n",
      "--------------------------------------------------\n"
     ]
    },
    {
     "name": "stderr",
     "output_type": "stream",
     "text": [
      "Training: 100%|██████████| 85/85 [00:07<00:00, 12.14it/s]\n",
      "Validation: 100%|██████████| 22/22 [00:01<00:00, 12.48it/s]\n"
     ]
    },
    {
     "name": "stdout",
     "output_type": "stream",
     "text": [
      "Train Loss: 0.2268 | Train Acc: 0.9053\n",
      "Val Loss: 0.3100 | Val Acc: 0.8837\n",
      "\n",
      "Epoch 49/50\n",
      "--------------------------------------------------\n"
     ]
    },
    {
     "name": "stderr",
     "output_type": "stream",
     "text": [
      "Training: 100%|██████████| 85/85 [00:07<00:00, 12.08it/s]\n",
      "Validation: 100%|██████████| 22/22 [00:01<00:00, 13.88it/s]\n"
     ]
    },
    {
     "name": "stdout",
     "output_type": "stream",
     "text": [
      "Train Loss: 0.1405 | Train Acc: 0.9497\n",
      "Val Loss: 0.2133 | Val Acc: 0.8837\n",
      "\n",
      "Epoch 50/50\n",
      "--------------------------------------------------\n"
     ]
    },
    {
     "name": "stderr",
     "output_type": "stream",
     "text": [
      "Training: 100%|██████████| 85/85 [00:06<00:00, 12.54it/s]\n",
      "Validation: 100%|██████████| 22/22 [00:01<00:00, 15.53it/s]\n"
     ]
    },
    {
     "name": "stdout",
     "output_type": "stream",
     "text": [
      "Train Loss: 0.2074 | Train Acc: 0.9112\n",
      "Val Loss: 0.1846 | Val Acc: 0.9070\n",
      "\n",
      "==================================================\n",
      "Training Complete!\n",
      "Best Validation Accuracy: 0.9535\n"
     ]
    },
    {
     "data": {
      "image/png": "[encoded data removed]",
      "text/plain": [
       "<Figure size 1500x500 with 2 Axes>"
      ]
     },
     "metadata": {},
     "output_type": "display_data"
    },
    {
     "name": "stdout",
     "output_type": "stream",
     "text": [
      "\n",
      "==================================================\n",
      "FINAL STATISTICS\n",
      "==================================================\n",
      "Final Train Loss: 0.2074\n",
      "Final Train Accuracy: 0.9112\n",
      "Final Val Loss: 0.1846\n",
      "Final Val Accuracy: 0.9070\n",
      "Best Val Accuracy: 0.9535\n"
     ]
    }
   ],
   "source": [
    "import torch\n",
    "import torch.nn as nn\n",
    "from tqdm import tqdm\n",
    "import matplotlib.pyplot as plt\n",
    "\n",
    "# Training history\n",
    "history = {\n",
    "    'train_loss': [],\n",
    "    'train_acc': [],\n",
    "    'val_loss': [],\n",
    "    'val_acc': []\n",
    "}\n",
    "\n",
    "epochs = 50\n",
    "best_val_acc = 0.0\n",
    "\n",
    "for epoch in range(epochs):\n",
    "    print(f'\\nEpoch {epoch+1}/{epochs}')\n",
    "    print('-' * 50)\n",
    "    \n",
    "    # ========== TRAINING PHASE ==========\n",
    "    modelres.train()\n",
    "    train_loss = 0.0\n",
    "    train_correct = 0\n",
    "    train_total = 0\n",
    "    \n",
    "    for batch in tqdm(trainloader, desc='Training'):\n",
    "        images, labels = batch\n",
    "        labels = labels.float().unsqueeze(1).to(device)  # Shape: [batch_size, 1]\n",
    "        images = images.to(device)\n",
    "        \n",
    "        # Forward pass\n",
    "        preds = modelres(images)\n",
    "        loss = loss_fn(preds, labels)\n",
    "        \n",
    "        # Backward pass\n",
    "        optimizer.zero_grad()\n",
    "        loss.backward()\n",
    "        optimizer.step()\n",
    "        \n",
    "        # Track metrics\n",
    "        train_loss += loss.item() * images.size(0)\n",
    "        predicted = (torch.sigmoid(preds) > 0.5).float()\n",
    "        train_correct += (predicted == labels).sum().item()\n",
    "        train_total += labels.size(0)\n",
    "    \n",
    "    # Calculate training metrics\n",
    "    epoch_train_loss = train_loss / train_total\n",
    "    epoch_train_acc = train_correct / train_total\n",
    "    \n",
    "    # ========== VALIDATION PHASE ==========\n",
    "    modelres.eval()  # Fixed: was model.eval(), should be modelres.eval()\n",
    "    val_loss = 0.0\n",
    "    val_correct = 0\n",
    "    val_total = 0\n",
    "    \n",
    "    with torch.no_grad():\n",
    "        for batch in tqdm(valloader, desc='Validation'):\n",
    "            images, labels = batch\n",
    "            labels = labels.float().unsqueeze(1).to(device)\n",
    "            images = images.to(device)\n",
    "            \n",
    "            # Forward pass\n",
    "            preds = modelres(images)\n",
    "            loss = loss_fn(preds, labels)\n",
    "            \n",
    "            # Track metrics\n",
    "            val_loss += loss.item() * images.size(0)\n",
    "            predicted = (torch.sigmoid(preds) > 0.5).float()\n",
    "            val_correct += (predicted == labels).sum().item()\n",
    "            val_total += labels.size(0)\n",
    "    \n",
    "    # Calculate validation metrics\n",
    "    epoch_val_loss = val_loss / val_total\n",
    "    epoch_val_acc = val_correct / val_total\n",
    "    \n",
    "    # Save metrics\n",
    "    history['train_loss'].append(epoch_train_loss)\n",
    "    history['train_acc'].append(epoch_train_acc)\n",
    "    history['val_loss'].append(epoch_val_loss)\n",
    "    history['val_acc'].append(epoch_val_acc)\n",
    "    \n",
    "    # Print epoch summary\n",
    "    print(f'Train Loss: {epoch_train_loss:.4f} | Train Acc: {epoch_train_acc:.4f}')\n",
    "    print(f'Val Loss: {epoch_val_loss:.4f} | Val Acc: {epoch_val_acc:.4f}')\n",
    "    \n",
    "    # Save best model\n",
    "    if epoch_val_acc > best_val_acc:\n",
    "        best_val_acc = epoch_val_acc\n",
    "        torch.save(modelres.state_dict(), 'best_resnet_model.pth')  # Changed filename\n",
    "        print(f'✓ Best model saved! Val Acc: {best_val_acc:.4f}')\n",
    "\n",
    "print('\\n' + '='*50)\n",
    "print('Training Complete!')\n",
    "print(f'Best Validation Accuracy: {best_val_acc:.4f}')\n",
    "\n",
    "# ========== VISUALIZATION ==========\n",
    "fig, axes = plt.subplots(1, 2, figsize=(15, 5))\n",
    "\n",
    "# Plot Loss\n",
    "axes[0].plot(range(1, epochs+1), history['train_loss'], 'b-o', label='Train Loss', linewidth=2, markersize=4)\n",
    "axes[0].plot(range(1, epochs+1), history['val_loss'], 'r-o', label='Val Loss', linewidth=2, markersize=4)\n",
    "axes[0].set_xlabel('Epoch', fontsize=12)\n",
    "axes[0].set_ylabel('Loss', fontsize=12)\n",
    "axes[0].set_title('Training and Validation Loss', fontsize=14, fontweight='bold')\n",
    "axes[0].legend(fontsize=11)\n",
    "axes[0].grid(True, alpha=0.3)\n",
    "\n",
    "# Plot Accuracy\n",
    "axes[1].plot(range(1, epochs+1), history['train_acc'], 'b-o', label='Train Accuracy', linewidth=2, markersize=4)\n",
    "axes[1].plot(range(1, epochs+1), history['val_acc'], 'r-o', label='Val Accuracy', linewidth=2, markersize=4)\n",
    "axes[1].set_xlabel('Epoch', fontsize=12)\n",
    "axes[1].set_ylabel('Accuracy', fontsize=12)\n",
    "axes[1].set_title('Training and Validation Accuracy', fontsize=14, fontweight='bold')\n",
    "axes[1].legend(fontsize=11)\n",
    "axes[1].grid(True, alpha=0.3)\n",
    "axes[1].set_ylim([0, 1])\n",
    "\n",
    "plt.tight_layout()\n",
    "plt.savefig('resnet_training_history.png', dpi=300, bbox_inches='tight')\n",
    "plt.show()\n",
    "\n",
    "# Print final statistics\n",
    "print('\\n' + '='*50)\n",
    "print('FINAL STATISTICS')\n",
    "print('='*50)\n",
    "print(f'Final Train Loss: {history[\"train_loss\"][-1]:.4f}')\n",
    "print(f'Final Train Accuracy: {history[\"train_acc\"][-1]:.4f}')\n",
    "print(f'Final Val Loss: {history[\"val_loss\"][-1]:.4f}')\n",
    "print(f'Final Val Accuracy: {history[\"val_acc\"][-1]:.4f}')\n",
    "print(f'Best Val Accuracy: {best_val_acc:.4f}')"
   ]
  },
  {
   "cell_type": "code",
   "execution_count": null,
   "id": "c0a7ed4e",
   "metadata": {},
   "outputs": [],
   "source": []
  },
  {
   "cell_type": "code",
   "execution_count": null,
   "id": "b178ff62",
   "metadata": {},
   "outputs": [],
   "source": []
  },
  {
   "cell_type": "code",
   "execution_count": null,
   "id": "51588d69",
   "metadata": {},
   "outputs": [],
   "source": []
  },
  {
   "cell_type": "code",
   "execution_count": null,
   "id": "a21fa162",
   "metadata": {},
   "outputs": [],
   "source": []
  },
  {
   "cell_type": "code",
   "execution_count": null,
   "id": "67c46357",
   "metadata": {},
   "outputs": [],
   "source": []
  },
  {
   "cell_type": "code",
   "execution_count": null,
   "id": "1f46d51e",
   "metadata": {},
   "outputs": [],
   "source": []
  }
 ],
 "metadata": {
  "kernelspec": {
   "display_name": "Python 3",
   "language": "python",
   "name": "python3"
  },
  "language_info": {
   "codemirror_mode": {
    "name": "ipython",
    "version": 3
   },
   "file_extension": ".py",
   "mimetype": "text/x-python",
   "name": "python",
   "nbconvert_exporter": "python",
   "pygments_lexer": "ipython3",
   "version": "3.13.5"
  }
 },
 "nbformat": 4,
 "nbformat_minor": 5
}
